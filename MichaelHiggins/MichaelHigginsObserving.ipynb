{
 "cells": [
  {
   "cell_type": "code",
   "execution_count": 1,
   "metadata": {},
   "outputs": [],
   "source": [
    "import numpy as np\n",
    "\n",
    "import astropy.units as u\n",
    "from astropy.time import Time\n",
    "from astropy.coordinates import SkyCoord\n",
    "import pytz\n",
    "\n",
    "from astroplan import Observer, FixedTarget\n",
    "\n",
    "#Plotting Airmass\n",
    "%matplotlib inline\n",
    "import matplotlib.pyplot as plt\n",
    "\n",
    "from astroplan import time_grid_from_range\n",
    "\n",
    "from astroplan.plots import plot_airmass"
   ]
  },
  {
   "cell_type": "code",
   "execution_count": 26,
   "metadata": {},
   "outputs": [],
   "source": [
    "#setting up my target\n",
    "M31 = FixedTarget.from_name(\"m31\")"
   ]
  },
  {
   "cell_type": "code",
   "execution_count": 2,
   "metadata": {},
   "outputs": [],
   "source": [
    "#Observing from observatory location\n",
    "APO =  Observer(longitude = -105.820278 * u.deg,\n",
    "        latitude = 32 * u.deg + 46 * u.arcmin + 49 * u.arcsec,\n",
    "        elevation = 2788 * u.m,\n",
    "        timezone = 'Mexico/BajaSur',\n",
    "        name = \"Apache Point Observatory\"\n",
    "        )\n"
   ]
  },
  {
   "cell_type": "code",
   "execution_count": 21,
   "metadata": {},
   "outputs": [],
   "source": [
    "#setting up times to observe\n",
    "current_time = APO.timezone\n",
    "observing_time2 = Time(\"2019-04-16 00:00:00\")\n",
    "observing_time = Time(\"2019-12-31 00:00:00\")\n",
    "midnight_APO = APO.midnight(observing_time, which='nearest')"
   ]
  },
  {
   "cell_type": "code",
   "execution_count": 38,
   "metadata": {},
   "outputs": [],
   "source": [
    "#twilight to twilight times for observing\n",
    "astro_set = APO.twilight_evening_astronomical(observing_time, which='nearest')\n",
    "astro_rise = APO.twilight_morning_astronomical(observing_time, which='next')\n",
    "midnight_APO = APO.midnight(observing_time, which='next')"
   ]
  },
  {
   "cell_type": "code",
   "execution_count": 32,
   "metadata": {},
   "outputs": [
    {
     "name": "stdout",
     "output_type": "stream",
     "text": [
      "You can observe for 11.0 h at APO tonight\n",
      "True\n"
     ]
    },
    {
     "data": {
      "image/png": "[encoded data removed]",
      "text/plain": [
       "<matplotlib.figure.Figure at 0x7fdb85cbca20>"
      ]
     },
     "metadata": {
      "needs_background": "light"
     },
     "output_type": "display_data"
    }
   ],
   "source": [
    "#Observing length on Dec 31 2019\n",
    "#Observing time based on night time (Twilight to twilight)\n",
    "observing_length = (astro_rise - astro_set).to(u.h)\n",
    "\n",
    "start_time = astro_set\n",
    "end_time = astro_rise\n",
    "#time to observe without destroying the CCD with the sun\n",
    "observing_range = [astro_set, astro_rise]\n",
    "\n",
    "time_grid = time_grid_from_range(observing_range)\n",
    "\n",
    "#plotting how long to view object based on airmass\n",
    "plot_airmass(M31, APO, time_grid);\n",
    "print(\"You can observe for {0:.1f} at APO tonight\".format(observing_length))\n",
    "print(APO.target_is_up(midnight_APO, M31))\n"
   ]
  },
  {
   "cell_type": "code",
   "execution_count": 33,
   "metadata": {},
   "outputs": [
    {
     "name": "stdout",
     "output_type": "stream",
     "text": [
      "You can observe for 8.1 h at APO tonight\n",
      "False\n"
     ]
    },
    {
     "data": {
      "image/png": "[encoded data removed]",
      "text/plain": [
       "<matplotlib.figure.Figure at 0x7fdb85cf47b8>"
      ]
     },
     "metadata": {
      "needs_background": "light"
     },
     "output_type": "display_data"
    }
   ],
   "source": [
    "#same as above code but for observing timne 2\n",
    "\n",
    "astro_set2 = APO.twilight_evening_astronomical(observing_time2, which='nearest')\n",
    "astro_rise2 = APO.twilight_morning_astronomical(observing_time2, which='next')\n",
    "midnight_APO2 = APO.midnight(observing_time2, which='next')\n",
    "\n",
    "#Observing length on Apr 16 2019\n",
    "observing_length2 = (astro_rise2 - astro_set2).to(u.h)\n",
    "start_time = astro_set2\n",
    "end_time = astro_rise2\n",
    "\n",
    "observing_range2 = [astro_set2, astro_rise2]\n",
    "\n",
    "time_grid2 = time_grid_from_range(observing_range2)\n",
    "plot_airmass(M31, APO, time_grid2);\n",
    "print(\"You can observe for {0:.1f} at APO tonight\".format(observing_length2))\n",
    "print(APO.target_is_up(midnight_APO2, M31))\n"
   ]
  },
  {
   "cell_type": "code",
   "execution_count": 35,
   "metadata": {},
   "outputs": [],
   "source": [
    "from astropy.coordinates import get_sun, get_body, get_moon\n",
    "from astroplan import moon_illumination"
   ]
  },
  {
   "cell_type": "code",
   "execution_count": 37,
   "metadata": {},
   "outputs": [
    {
     "data": {
      "text/plain": [
       "0.21625726075472407"
      ]
     },
     "execution_count": 37,
     "metadata": {},
     "output_type": "execute_result"
    }
   ],
   "source": [
    "#Moon illumination on observing time\n",
    "moon_observing = get_body('moon',observing_time)\n",
    "moon_illumination(observing_time)"
   ]
  },
  {
   "cell_type": "code",
   "execution_count": 41,
   "metadata": {},
   "outputs": [
    {
     "data": {
      "text/plain": [
       "hms_tuple(h=0.0, m=42.0, s=44.32999920000029)"
      ]
     },
     "execution_count": 41,
     "metadata": {},
     "output_type": "execute_result"
    }
   ],
   "source": [
    "#Best season to observe\n",
    "M31.ra.hms"
   ]
  },
  {
   "cell_type": "markdown",
   "metadata": {},
   "source": [
    "So when the sun is opposite the M31 (12-13 hrs) would be in the autumn months (Sept.)"
   ]
  }
 ],
 "metadata": {
  "anaconda-cloud": {},
  "kernelspec": {
   "display_name": "Python 3",
   "language": "python",
   "name": "python3"
  },
  "language_info": {
   "codemirror_mode": {
    "name": "ipython",
    "version": 3
   },
   "file_extension": ".py",
   "mimetype": "text/x-python",
   "name": "python",
   "nbconvert_exporter": "python",
   "pygments_lexer": "ipython3",
   "version": "3.6.8"
  }
 },
 "nbformat": 4,
 "nbformat_minor": 1
}
