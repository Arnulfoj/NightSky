{
 "cells": [
  {
   "cell_type": "code",
   "execution_count": 2,
   "metadata": {},
   "outputs": [],
   "source": [
    "import numpy as np\n",
    "import pandas as pd\n",
    "import astropy.units as u\n",
    "from astropy.time import Time\n",
    "from astropy.coordinates import SkyCoord\n",
    "import pytz\n",
    "\n",
    "from astroplan import Observer, FixedTarget\n",
    "\n",
    "#Plotting Airmass\n",
    "%matplotlib inline\n",
    "import matplotlib.pyplot as plt\n",
    "\n",
    "from astroplan import time_grid_from_range\n",
    "\n",
    "from astroplan.plots import plot_airmass"
   ]
  },
  {
   "cell_type": "code",
   "execution_count": 46,
   "metadata": {},
   "outputs": [],
   "source": [
    "#reading a list of randomly selected galaxies from the UGC list\n",
    "galaxy_table = pd.read_csv(\"randomUGC.csv\")"
   ]
  },
  {
   "cell_type": "code",
   "execution_count": 47,
   "metadata": {},
   "outputs": [],
   "source": [
    "#Observing from observatory location\n",
    "het =  Observer(longitude = -104.014722 * u.deg,\n",
    "        latitude = 30 * u.deg + 40 * u.arcmin + 53.2 * u.arcsec,\n",
    "        elevation = 2026 * u.m,\n",
    "        timezone = 'US/Central',\n",
    "        name = \"Hobby-Eberly Telescope\"\n",
    "        )"
   ]
  },
  {
   "cell_type": "code",
   "execution_count": 48,
   "metadata": {},
   "outputs": [],
   "source": [
    "#setting up times to observe--August 15-30\n",
    "current_time = het.timezone\n",
    "observing_time1 = Time(\"2019-08-15 00:00:00\")\n",
    "midnight_het = het.midnight(observing_time1, which='nearest')"
   ]
  },
  {
   "cell_type": "code",
   "execution_count": 49,
   "metadata": {},
   "outputs": [],
   "source": [
    "#twilight to twilight times for observing\n",
    "astro_set = het.twilight_evening_astronomical(observing_time1, which='nearest')\n",
    "astro_rise = het.twilight_morning_astronomical(observing_time1, which='next')\n",
    "midnight_het = het.midnight(observing_time1, which='next')"
   ]
  },
  {
   "cell_type": "code",
   "execution_count": 50,
   "metadata": {},
   "outputs": [],
   "source": [
    "#function that will return a bool from the galaxy_table, true if galaxy is visible\n",
    "def istargetup(x):\n",
    "    target = FixedTarget.from_name(galaxy_table[\"Name\"][x])\n",
    "    visible = het.target_is_up(midnight_het, target)\n",
    "    return visible\n",
    "\n",
    "#mask that can be applied to the galaxy_table to yield which galaxies will be visible\n",
    "mask = []\n",
    "for i in range(len(galaxy_table[\"Name\"])):\n",
    "    mask.append(istargetup(i))"
   ]
  },
  {
   "cell_type": "code",
   "execution_count": 51,
   "metadata": {},
   "outputs": [
    {
     "data": {
      "text/html": [
       "<div>\n",
       "<style scoped>\n",
       "    .dataframe tbody tr th:only-of-type {\n",
       "        vertical-align: middle;\n",
       "    }\n",
       "\n",
       "    .dataframe tbody tr th {\n",
       "        vertical-align: top;\n",
       "    }\n",
       "\n",
       "    .dataframe thead th {\n",
       "        text-align: right;\n",
       "    }\n",
       "</style>\n",
       "<table border=\"1\" class=\"dataframe\">\n",
       "  <thead>\n",
       "    <tr style=\"text-align: right;\">\n",
       "      <th></th>\n",
       "      <th>Name</th>\n",
       "    </tr>\n",
       "  </thead>\n",
       "  <tbody>\n",
       "    <tr>\n",
       "      <th>0</th>\n",
       "      <td>UGC10492</td>\n",
       "    </tr>\n",
       "    <tr>\n",
       "      <th>2</th>\n",
       "      <td>UGC439</td>\n",
       "    </tr>\n",
       "    <tr>\n",
       "      <th>3</th>\n",
       "      <td>UGC12479</td>\n",
       "    </tr>\n",
       "    <tr>\n",
       "      <th>4</th>\n",
       "      <td>UGC965</td>\n",
       "    </tr>\n",
       "    <tr>\n",
       "      <th>5</th>\n",
       "      <td>UGC991</td>\n",
       "    </tr>\n",
       "    <tr>\n",
       "      <th>7</th>\n",
       "      <td>UGC1052</td>\n",
       "    </tr>\n",
       "    <tr>\n",
       "      <th>9</th>\n",
       "      <td>UGC1092</td>\n",
       "    </tr>\n",
       "    <tr>\n",
       "      <th>11</th>\n",
       "      <td>UGC1727</td>\n",
       "    </tr>\n",
       "    <tr>\n",
       "      <th>12</th>\n",
       "      <td>UGC2343</td>\n",
       "    </tr>\n",
       "    <tr>\n",
       "      <th>13</th>\n",
       "      <td>UGC1713</td>\n",
       "    </tr>\n",
       "    <tr>\n",
       "      <th>14</th>\n",
       "      <td>UGC72</td>\n",
       "    </tr>\n",
       "    <tr>\n",
       "      <th>17</th>\n",
       "      <td>UGC2600</td>\n",
       "    </tr>\n",
       "    <tr>\n",
       "      <th>18</th>\n",
       "      <td>UGC12174</td>\n",
       "    </tr>\n",
       "    <tr>\n",
       "      <th>20</th>\n",
       "      <td>UGC12637</td>\n",
       "    </tr>\n",
       "    <tr>\n",
       "      <th>21</th>\n",
       "      <td>UGC12348</td>\n",
       "    </tr>\n",
       "    <tr>\n",
       "      <th>22</th>\n",
       "      <td>UGC11628</td>\n",
       "    </tr>\n",
       "    <tr>\n",
       "      <th>24</th>\n",
       "      <td>UGC10081</td>\n",
       "    </tr>\n",
       "    <tr>\n",
       "      <th>27</th>\n",
       "      <td>UGC2292</td>\n",
       "    </tr>\n",
       "    <tr>\n",
       "      <th>28</th>\n",
       "      <td>UGC2147</td>\n",
       "    </tr>\n",
       "    <tr>\n",
       "      <th>29</th>\n",
       "      <td>UGC12220</td>\n",
       "    </tr>\n",
       "    <tr>\n",
       "      <th>31</th>\n",
       "      <td>UGC12225</td>\n",
       "    </tr>\n",
       "    <tr>\n",
       "      <th>32</th>\n",
       "      <td>UGC2158</td>\n",
       "    </tr>\n",
       "    <tr>\n",
       "      <th>33</th>\n",
       "      <td>UGC2152</td>\n",
       "    </tr>\n",
       "    <tr>\n",
       "      <th>34</th>\n",
       "      <td>UGC9960</td>\n",
       "    </tr>\n",
       "    <tr>\n",
       "      <th>37</th>\n",
       "      <td>UGC10268</td>\n",
       "    </tr>\n",
       "    <tr>\n",
       "      <th>38</th>\n",
       "      <td>UGC12349</td>\n",
       "    </tr>\n",
       "    <tr>\n",
       "      <th>39</th>\n",
       "      <td>UGC382</td>\n",
       "    </tr>\n",
       "    <tr>\n",
       "      <th>42</th>\n",
       "      <td>UGC10184</td>\n",
       "    </tr>\n",
       "    <tr>\n",
       "      <th>46</th>\n",
       "      <td>UGC9863</td>\n",
       "    </tr>\n",
       "  </tbody>\n",
       "</table>\n",
       "</div>"
      ],
      "text/plain": [
       "        Name\n",
       "0   UGC10492\n",
       "2     UGC439\n",
       "3   UGC12479\n",
       "4     UGC965\n",
       "5     UGC991\n",
       "7    UGC1052\n",
       "9    UGC1092\n",
       "11   UGC1727\n",
       "12   UGC2343\n",
       "13   UGC1713\n",
       "14     UGC72\n",
       "17   UGC2600\n",
       "18  UGC12174\n",
       "20  UGC12637\n",
       "21  UGC12348\n",
       "22  UGC11628\n",
       "24  UGC10081\n",
       "27   UGC2292\n",
       "28   UGC2147\n",
       "29  UGC12220\n",
       "31  UGC12225\n",
       "32   UGC2158\n",
       "33   UGC2152\n",
       "34   UGC9960\n",
       "37  UGC10268\n",
       "38  UGC12349\n",
       "39    UGC382\n",
       "42  UGC10184\n",
       "46   UGC9863"
      ]
     },
     "execution_count": 51,
     "metadata": {},
     "output_type": "execute_result"
    }
   ],
   "source": [
    "#galaxies that will be visable on observing_time1, but we only need 10 of these so I will pick the first 10\n",
    "galaxy_table[mask]"
   ]
  },
  {
   "cell_type": "code",
   "execution_count": 52,
   "metadata": {},
   "outputs": [],
   "source": [
    "#Getting the RA and DEC of the observable objects using AstroPlan\n",
    "\n",
    "def targetra(x):\n",
    "    target = FixedTarget.from_name(galaxy_table[\"Name\"][x])\n",
    "    result = target.ra\n",
    "    return result\n",
    "\n",
    "def targetdec(x):\n",
    "    target = FixedTarget.from_name(galaxy_table[\"Name\"][x])\n",
    "    result = target.dec\n",
    "    return result\n",
    "\n",
    "ra = []\n",
    "dec = []\n",
    "\n",
    "for i in range(len(galaxy_table[\"Name\"])):\n",
    "    ra.append(targetra(i).hms)\n",
    "    dec.append(targetdec(i).dms)"
   ]
  },
  {
   "cell_type": "code",
   "execution_count": 53,
   "metadata": {},
   "outputs": [],
   "source": [
    "#Adding the RA and DEC to my pandas table\n",
    "galaxy_table[\"RA(hms)\"] = ra\n",
    "galaxy_table[\"DEC(dms)\"] = dec"
   ]
  },
  {
   "cell_type": "markdown",
   "metadata": {},
   "source": [
    "# Table of Observable Galaxies on August 15th - August30th"
   ]
  },
  {
   "cell_type": "code",
   "execution_count": 62,
   "metadata": {
    "scrolled": true
   },
   "outputs": [
    {
     "data": {
      "text/html": [
       "<div>\n",
       "<style scoped>\n",
       "    .dataframe tbody tr th:only-of-type {\n",
       "        vertical-align: middle;\n",
       "    }\n",
       "\n",
       "    .dataframe tbody tr th {\n",
       "        vertical-align: top;\n",
       "    }\n",
       "\n",
       "    .dataframe thead th {\n",
       "        text-align: right;\n",
       "    }\n",
       "</style>\n",
       "<table border=\"1\" class=\"dataframe\">\n",
       "  <thead>\n",
       "    <tr style=\"text-align: right;\">\n",
       "      <th></th>\n",
       "      <th>Name</th>\n",
       "      <th>RA(hms)</th>\n",
       "      <th>DEC(dms)</th>\n",
       "    </tr>\n",
       "  </thead>\n",
       "  <tbody>\n",
       "    <tr>\n",
       "      <th>0</th>\n",
       "      <td>UGC10492</td>\n",
       "      <td>(16.0, 39.0, 24.38400000001394)</td>\n",
       "      <td>(-2.0, -25.0, -50.5199999999995)</td>\n",
       "    </tr>\n",
       "    <tr>\n",
       "      <th>1</th>\n",
       "      <td>UGC439</td>\n",
       "      <td>(0.0, 41.0, 27.38400000000098)</td>\n",
       "      <td>(-1.0, -42.0, -33.1200000000004)</td>\n",
       "    </tr>\n",
       "    <tr>\n",
       "      <th>2</th>\n",
       "      <td>UGC12479</td>\n",
       "      <td>(23.0, 17.0, 28.15200000001454)</td>\n",
       "      <td>(-1.0, -35.0, -35.87999999999994)</td>\n",
       "    </tr>\n",
       "    <tr>\n",
       "      <th>3</th>\n",
       "      <td>UGC965</td>\n",
       "      <td>(1.0, 24.0, 39.048000000001295)</td>\n",
       "      <td>(-1.0, -34.0, -23.15999999999974)</td>\n",
       "    </tr>\n",
       "    <tr>\n",
       "      <th>4</th>\n",
       "      <td>UGC991</td>\n",
       "      <td>(1.0, 25.0, 27.04800000000091)</td>\n",
       "      <td>(-1.0, -32.0, -24.719999999999942)</td>\n",
       "    </tr>\n",
       "    <tr>\n",
       "      <th>5</th>\n",
       "      <td>UGC1052</td>\n",
       "      <td>(1.0, 28.0, 9.144000000001284)</td>\n",
       "      <td>(-1.0, -17.0, -28.679999999999666)</td>\n",
       "    </tr>\n",
       "    <tr>\n",
       "      <th>6</th>\n",
       "      <td>UGC1092</td>\n",
       "      <td>(1.0, 31.0, 39.28800000000052)</td>\n",
       "      <td>(-0.0, -55.0, -34.68000000000018)</td>\n",
       "    </tr>\n",
       "    <tr>\n",
       "      <th>7</th>\n",
       "      <td>UGC1727</td>\n",
       "      <td>(2.0, 14.0, 33.19200000000183)</td>\n",
       "      <td>(-0.0, -46.0, -2.279999999999802)</td>\n",
       "    </tr>\n",
       "    <tr>\n",
       "      <th>8</th>\n",
       "      <td>UGC2343</td>\n",
       "      <td>(2.0, 51.0, 39.07200000000188)</td>\n",
       "      <td>(-0.0, -44.0, -42.00000000000017)</td>\n",
       "    </tr>\n",
       "    <tr>\n",
       "      <th>9</th>\n",
       "      <td>UGC1713</td>\n",
       "      <td>(2.0, 13.0, 33.216000000000605)</td>\n",
       "      <td>(-0.0, -44.0, -0.2400000000002933)</td>\n",
       "    </tr>\n",
       "  </tbody>\n",
       "</table>\n",
       "</div>"
      ],
      "text/plain": [
       "       Name                          RA(hms)  \\\n",
       "0  UGC10492  (16.0, 39.0, 24.38400000001394)   \n",
       "1    UGC439   (0.0, 41.0, 27.38400000000098)   \n",
       "2  UGC12479  (23.0, 17.0, 28.15200000001454)   \n",
       "3    UGC965  (1.0, 24.0, 39.048000000001295)   \n",
       "4    UGC991   (1.0, 25.0, 27.04800000000091)   \n",
       "5   UGC1052   (1.0, 28.0, 9.144000000001284)   \n",
       "6   UGC1092   (1.0, 31.0, 39.28800000000052)   \n",
       "7   UGC1727   (2.0, 14.0, 33.19200000000183)   \n",
       "8   UGC2343   (2.0, 51.0, 39.07200000000188)   \n",
       "9   UGC1713  (2.0, 13.0, 33.216000000000605)   \n",
       "\n",
       "                             DEC(dms)  \n",
       "0    (-2.0, -25.0, -50.5199999999995)  \n",
       "1    (-1.0, -42.0, -33.1200000000004)  \n",
       "2   (-1.0, -35.0, -35.87999999999994)  \n",
       "3   (-1.0, -34.0, -23.15999999999974)  \n",
       "4  (-1.0, -32.0, -24.719999999999942)  \n",
       "5  (-1.0, -17.0, -28.679999999999666)  \n",
       "6   (-0.0, -55.0, -34.68000000000018)  \n",
       "7   (-0.0, -46.0, -2.279999999999802)  \n",
       "8   (-0.0, -44.0, -42.00000000000017)  \n",
       "9  (-0.0, -44.0, -0.2400000000002933)  "
      ]
     },
     "execution_count": 62,
     "metadata": {},
     "output_type": "execute_result"
    }
   ],
   "source": [
    "galaxy_table_observable = galaxy_table[mask][0:10]\n",
    "galaxy_table_observable = galaxy_table_observable.reset_index(drop=True)\n",
    "galaxy_table_observable"
   ]
  },
  {
   "cell_type": "code",
   "execution_count": 63,
   "metadata": {},
   "outputs": [
    {
     "data": {
      "text/plain": [
       "<matplotlib.legend.Legend at 0x7f2a0727bac8>"
      ]
     },
     "execution_count": 63,
     "metadata": {},
     "output_type": "execute_result"
    },
    {
     "data": {
      "image/png": "[encoded data removed]",
      "text/plain": [
       "<matplotlib.figure.Figure at 0x7f2a0739e1d0>"
      ]
     },
     "metadata": {
      "needs_background": "light"
     },
     "output_type": "display_data"
    }
   ],
   "source": [
    "observing_length = (astro_rise - astro_set).to(u.h)\n",
    "\n",
    "start_time = astro_set\n",
    "end_time = astro_rise\n",
    "#time to observe without destroying the CCD with the sun\n",
    "observing_range = [astro_set, astro_rise]\n",
    "\n",
    "time_grid = time_grid_from_range(observing_range)\n",
    "\n",
    "#plotting how long to view object based on airmass\n",
    "\n",
    "def target(x):\n",
    "    target = FixedTarget.from_name(galaxy_table_observable[\"Name\"][x])\n",
    "    return target\n",
    "\n",
    "\n",
    "\n",
    "for i in range(len(galaxy_table_observable['Name'])):\n",
    "    plot_airmass(target(i), het, time_grid);\n",
    "    \n",
    "plt.legend(loc='upper center', bbox_to_anchor=(1.45, 0.8), shadow=True, ncol=1)\n"
   ]
  },
  {
   "cell_type": "code",
   "execution_count": 64,
   "metadata": {},
   "outputs": [],
   "source": [
    "from astropy.coordinates import get_sun, get_body, get_moon\n",
    "from astroplan import moon_illumination"
   ]
  },
  {
   "cell_type": "code",
   "execution_count": 65,
   "metadata": {},
   "outputs": [
    {
     "data": {
      "text/plain": [
       "0.9970609659215346"
      ]
     },
     "execution_count": 65,
     "metadata": {},
     "output_type": "execute_result"
    }
   ],
   "source": [
    "moon_observing = get_body('moon',observing_time1)\n",
    "moon_illumination(observing_time1)"
   ]
  },
  {
   "cell_type": "code",
   "execution_count": 66,
   "metadata": {},
   "outputs": [
    {
     "name": "stdout",
     "output_type": "stream",
     "text": [
      "hms_tuple(h=21.0, m=16.0, s=41.48403520171172)\n",
      "dms_tuple(d=-18.0, m=-27.0, s=-12.57342903422682)\n"
     ]
    }
   ],
   "source": [
    "print(moon_observing.ra.hms)\n",
    "print(moon_observing.dec.dms)"
   ]
  },
  {
   "cell_type": "markdown",
   "metadata": {},
   "source": [
    "# Looking one month ahead"
   ]
  },
  {
   "cell_type": "code",
   "execution_count": 89,
   "metadata": {},
   "outputs": [],
   "source": [
    "observing_time2 = Time(\"2019-09-15 00:00:00\")\n",
    "astro_set2 = het.twilight_evening_astronomical(observing_time2, which='nearest')\n",
    "astro_rise2 = het.twilight_morning_astronomical(observing_time2, which='next')\n",
    "midnight_het2 = het.midnight(observing_time2, which='next')"
   ]
  },
  {
   "cell_type": "code",
   "execution_count": 85,
   "metadata": {},
   "outputs": [],
   "source": [
    "def istargetup2(x):\n",
    "    target = FixedTarget.from_name(galaxy_table_observable[\"Name\"][x])\n",
    "    visible = het.target_is_up(midnight_het2, target)\n",
    "    return visible\n",
    "\n",
    "#mask that can be applied to the galaxy_table to yield which galaxies will be visible\n",
    "mask2 = []\n",
    "for i in range(len(galaxy_table_observable[\"Name\"])):\n",
    "    mask2.append(istargetup2(i))"
   ]
  },
  {
   "cell_type": "code",
   "execution_count": 86,
   "metadata": {},
   "outputs": [
    {
     "data": {
      "text/html": [
       "<div>\n",
       "<style scoped>\n",
       "    .dataframe tbody tr th:only-of-type {\n",
       "        vertical-align: middle;\n",
       "    }\n",
       "\n",
       "    .dataframe tbody tr th {\n",
       "        vertical-align: top;\n",
       "    }\n",
       "\n",
       "    .dataframe thead th {\n",
       "        text-align: right;\n",
       "    }\n",
       "</style>\n",
       "<table border=\"1\" class=\"dataframe\">\n",
       "  <thead>\n",
       "    <tr style=\"text-align: right;\">\n",
       "      <th></th>\n",
       "      <th>Name</th>\n",
       "      <th>RA(hms)</th>\n",
       "      <th>DEC(dms)</th>\n",
       "    </tr>\n",
       "  </thead>\n",
       "  <tbody>\n",
       "    <tr>\n",
       "      <th>1</th>\n",
       "      <td>UGC439</td>\n",
       "      <td>(0.0, 41.0, 27.38400000000098)</td>\n",
       "      <td>(-1.0, -42.0, -33.1200000000004)</td>\n",
       "    </tr>\n",
       "    <tr>\n",
       "      <th>2</th>\n",
       "      <td>UGC12479</td>\n",
       "      <td>(23.0, 17.0, 28.15200000001454)</td>\n",
       "      <td>(-1.0, -35.0, -35.87999999999994)</td>\n",
       "    </tr>\n",
       "    <tr>\n",
       "      <th>3</th>\n",
       "      <td>UGC965</td>\n",
       "      <td>(1.0, 24.0, 39.048000000001295)</td>\n",
       "      <td>(-1.0, -34.0, -23.15999999999974)</td>\n",
       "    </tr>\n",
       "    <tr>\n",
       "      <th>4</th>\n",
       "      <td>UGC991</td>\n",
       "      <td>(1.0, 25.0, 27.04800000000091)</td>\n",
       "      <td>(-1.0, -32.0, -24.719999999999942)</td>\n",
       "    </tr>\n",
       "    <tr>\n",
       "      <th>5</th>\n",
       "      <td>UGC1052</td>\n",
       "      <td>(1.0, 28.0, 9.144000000001284)</td>\n",
       "      <td>(-1.0, -17.0, -28.679999999999666)</td>\n",
       "    </tr>\n",
       "    <tr>\n",
       "      <th>6</th>\n",
       "      <td>UGC1092</td>\n",
       "      <td>(1.0, 31.0, 39.28800000000052)</td>\n",
       "      <td>(-0.0, -55.0, -34.68000000000018)</td>\n",
       "    </tr>\n",
       "    <tr>\n",
       "      <th>7</th>\n",
       "      <td>UGC1727</td>\n",
       "      <td>(2.0, 14.0, 33.19200000000183)</td>\n",
       "      <td>(-0.0, -46.0, -2.279999999999802)</td>\n",
       "    </tr>\n",
       "    <tr>\n",
       "      <th>8</th>\n",
       "      <td>UGC2343</td>\n",
       "      <td>(2.0, 51.0, 39.07200000000188)</td>\n",
       "      <td>(-0.0, -44.0, -42.00000000000017)</td>\n",
       "    </tr>\n",
       "    <tr>\n",
       "      <th>9</th>\n",
       "      <td>UGC1713</td>\n",
       "      <td>(2.0, 13.0, 33.216000000000605)</td>\n",
       "      <td>(-0.0, -44.0, -0.2400000000002933)</td>\n",
       "    </tr>\n",
       "  </tbody>\n",
       "</table>\n",
       "</div>"
      ],
      "text/plain": [
       "       Name                          RA(hms)  \\\n",
       "1    UGC439   (0.0, 41.0, 27.38400000000098)   \n",
       "2  UGC12479  (23.0, 17.0, 28.15200000001454)   \n",
       "3    UGC965  (1.0, 24.0, 39.048000000001295)   \n",
       "4    UGC991   (1.0, 25.0, 27.04800000000091)   \n",
       "5   UGC1052   (1.0, 28.0, 9.144000000001284)   \n",
       "6   UGC1092   (1.0, 31.0, 39.28800000000052)   \n",
       "7   UGC1727   (2.0, 14.0, 33.19200000000183)   \n",
       "8   UGC2343   (2.0, 51.0, 39.07200000000188)   \n",
       "9   UGC1713  (2.0, 13.0, 33.216000000000605)   \n",
       "\n",
       "                             DEC(dms)  \n",
       "1    (-1.0, -42.0, -33.1200000000004)  \n",
       "2   (-1.0, -35.0, -35.87999999999994)  \n",
       "3   (-1.0, -34.0, -23.15999999999974)  \n",
       "4  (-1.0, -32.0, -24.719999999999942)  \n",
       "5  (-1.0, -17.0, -28.679999999999666)  \n",
       "6   (-0.0, -55.0, -34.68000000000018)  \n",
       "7   (-0.0, -46.0, -2.279999999999802)  \n",
       "8   (-0.0, -44.0, -42.00000000000017)  \n",
       "9  (-0.0, -44.0, -0.2400000000002933)  "
      ]
     },
     "execution_count": 86,
     "metadata": {},
     "output_type": "execute_result"
    }
   ],
   "source": [
    "galaxy_table_observable[mask2]"
   ]
  },
  {
   "cell_type": "markdown",
   "metadata": {},
   "source": [
    "## This shows that they will all still be observable from the observatory a month later"
   ]
  },
  {
   "cell_type": "code",
   "execution_count": 75,
   "metadata": {},
   "outputs": [
    {
     "data": {
      "text/plain": [
       "<matplotlib.legend.Legend at 0x7f2a0c187128>"
      ]
     },
     "execution_count": 75,
     "metadata": {},
     "output_type": "execute_result"
    },
    {
     "data": {
      "image/png": "[encoded data removed]",
      "text/plain": [
       "<matplotlib.figure.Figure at 0x7f2a073f9a58>"
      ]
     },
     "metadata": {
      "needs_background": "light"
     },
     "output_type": "display_data"
    }
   ],
   "source": [
    "observing_length2 = (astro_rise2 - astro_set2).to(u.h)\n",
    "\n",
    "start_time2= astro_set2\n",
    "end_time2 = astro_rise2\n",
    "#time to observe without destroying the CCD with the sun\n",
    "observing_range2 = [astro_set2, astro_rise2]\n",
    "\n",
    "time_grid2 = time_grid_from_range(observing_range2)\n",
    "\n",
    "#plotting how long to view object based on airmass\n",
    "\n",
    "def target(x):\n",
    "    target = FixedTarget.from_name(galaxy_table_observable[\"Name\"][x])\n",
    "    return target\n",
    "\n",
    "\n",
    "\n",
    "for i in range(len(galaxy_table_observable['Name'])):\n",
    "    plot_airmass(target(i), het, time_grid2);\n",
    "    \n",
    "plt.legend(loc='upper center', bbox_to_anchor=(1.45, 0.8), shadow=True, ncol=1)\n"
   ]
  },
  {
   "cell_type": "code",
   "execution_count": 76,
   "metadata": {},
   "outputs": [
    {
     "data": {
      "text/plain": [
       "0.9923073223657531"
      ]
     },
     "execution_count": 76,
     "metadata": {},
     "output_type": "execute_result"
    }
   ],
   "source": [
    "moon_observing2 = get_body('moon',observing_time2)\n",
    "moon_illumination(observing_time2)"
   ]
  },
  {
   "cell_type": "code",
   "execution_count": 87,
   "metadata": {},
   "outputs": [
    {
     "name": "stdout",
     "output_type": "stream",
     "text": [
      "hms_tuple(h=0.0, m=9.0, s=24.881550381235265)\n",
      "dms_tuple(d=-4.0, m=-17.0, s=-22.532708388507956)\n"
     ]
    }
   ],
   "source": [
    "print(moon_observing2.ra.hms)\n",
    "print(moon_observing2.dec.dms)"
   ]
  },
  {
   "cell_type": "markdown",
   "metadata": {},
   "source": [
    "For this it is apparent that none of my targets will be greater than 30 degrees away from the moon and the moon will be full for the first 4 days of my observation... not great."
   ]
  }
 ],
 "metadata": {
  "kernelspec": {
   "display_name": "Python 3",
   "language": "python",
   "name": "python3"
  },
  "language_info": {
   "codemirror_mode": {
    "name": "ipython",
    "version": 3
   },
   "file_extension": ".py",
   "mimetype": "text/x-python",
   "name": "python",
   "nbconvert_exporter": "python",
   "pygments_lexer": "ipython3",
   "version": "3.6.8"
  }
 },
 "nbformat": 4,
 "nbformat_minor": 2
}
