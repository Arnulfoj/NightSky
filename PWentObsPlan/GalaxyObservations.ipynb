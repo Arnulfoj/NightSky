{
 "cells": [
  {
   "cell_type": "code",
   "execution_count": 8,
   "metadata": {},
   "outputs": [],
   "source": [
    "# Import needed libraries.\n",
    "\n",
    "from astroplan import Observer, FixedTarget\n",
    "from astropy.time import Time\n",
    "from astropy.table import Table, join\n",
    "import astropy.table as table\n",
    "from astropy.coordinates import SkyCoord\n",
    "import astropy.units as u\n",
    "from astroplan import (AirmassConstraint, AtNightConstraint, \n",
    "                       TimeConstraint, MoonIlluminationConstraint, \n",
    "                       MoonSeparationConstraint)\n",
    "from astroplan import is_observable\n",
    "import numpy as np\n",
    "from astroplan import observability_table"
   ]
  },
  {
   "cell_type": "code",
   "execution_count": 9,
   "metadata": {},
   "outputs": [],
   "source": [
    "# Set observer location.\n",
    "\n",
    "dao = Observer.at_site(\"Dominion Astrophysical Observatory\")"
   ]
  },
  {
   "cell_type": "code",
   "execution_count": 10,
   "metadata": {},
   "outputs": [],
   "source": [
    "# Set targets.\n",
    "\n",
    "targets_raw = Table.read('Galaxies.csv', format = 'ascii')\n",
    "targets_raw = table.unique(targets_raw, keys = \"main_id\")\n",
    "targets_raw.remove_columns([\"flux\", \"otype\"])\n",
    "targets = [FixedTarget(coord = SkyCoord(ra = ra*u.deg, dec = dec*u.deg), name = main_id)\n",
    "           for main_id, ra, dec in targets_raw]\n",
    "targets_raw.rename_column(\"main_id\", \"target name\")"
   ]
  },
  {
   "cell_type": "code",
   "execution_count": 11,
   "metadata": {},
   "outputs": [],
   "source": [
    "# Set constraints on time of observation, airmass, degree of twilight,\n",
    "# moon illumination, and moon separation.\n",
    "\n",
    "time_start = Time(['2019-5-1 00:00:00'])\n",
    "time_end = Time(['2019-5-15 00:00:00'])\n",
    "constraints = [AirmassConstraint(1.5), AtNightConstraint.twilight_astronomical(), \n",
    "               TimeConstraint(time_start, time_end), \n",
    "               MoonIlluminationConstraint(min = None, max = 0.1),\n",
    "               MoonSeparationConstraint(min = 40*u.deg, max = None)]\n",
    "\n",
    "# Check observability.\n",
    "# Constructs the observability table, then removes all objects that are never observable.\n",
    "\n",
    "observability = observability_table(constraints, dao, targets, time_range = (time_start, time_end))\n",
    "observability = observability.group_by(\"ever observable\")\n",
    "observability = observability.groups[1]"
   ]
  },
  {
   "cell_type": "code",
   "execution_count": 12,
   "metadata": {},
   "outputs": [
    {
     "data": {
      "text/html": [
       "<i>Table length=10</i>\n",
       "<table id=\"table139867378713320\" class=\"table-striped table-bordered table-condensed\">\n",
       "<thead><tr><th>target name</th><th>ra</th><th>dec</th><th>fraction of time observable</th></tr></thead>\n",
       "<thead><tr><th>str37</th><th>float64</th><th>float64</th><th>float64</th></tr></thead>\n",
       "<tr><td>M  51</td><td>202.469575</td><td>47.19525833333333</td><td>0.12797619047619047</td></tr>\n",
       "<tr><td>M  63</td><td>198.9553077198746</td><td>42.0293683550047</td><td>0.12797619047619047</td></tr>\n",
       "<tr><td>M  94</td><td>192.72145</td><td>41.120152777777776</td><td>0.12797619047619047</td></tr>\n",
       "<tr><td>M 101</td><td>210.80242916666668</td><td>54.34875</td><td>0.12797619047619047</td></tr>\n",
       "<tr><td>M 102</td><td>226.62317083333332</td><td>55.76330833333333</td><td>0.12797619047619047</td></tr>\n",
       "<tr><td>M 106</td><td>184.7400833333333</td><td>47.30371944444444</td><td>0.12797619047619047</td></tr>\n",
       "<tr><td>M 108</td><td>167.87902916666664</td><td>55.67412222222222</td><td>0.11160714285714286</td></tr>\n",
       "<tr><td>M 109</td><td>179.3999333333333</td><td>53.374519444444445</td><td>0.12797619047619047</td></tr>\n",
       "<tr><td>NDWFS J142922.8+351219</td><td>217.34524999999994</td><td>35.20525000000001</td><td>0.12797619047619047</td></tr>\n",
       "<tr><td>NGC  2768</td><td>137.90626666666668</td><td>60.03720833333333</td><td>0.0625</td></tr>\n",
       "</table>"
      ],
      "text/plain": [
       "<Table length=10>\n",
       "     target name               ra         ... fraction of time observable\n",
       "        str37               float64       ...           float64          \n",
       "---------------------- ------------------ ... ---------------------------\n",
       "                 M  51         202.469575 ...         0.12797619047619047\n",
       "                 M  63  198.9553077198746 ...         0.12797619047619047\n",
       "                 M  94          192.72145 ...         0.12797619047619047\n",
       "                 M 101 210.80242916666668 ...         0.12797619047619047\n",
       "                 M 102 226.62317083333332 ...         0.12797619047619047\n",
       "                 M 106  184.7400833333333 ...         0.12797619047619047\n",
       "                 M 108 167.87902916666664 ...         0.11160714285714286\n",
       "                 M 109  179.3999333333333 ...         0.12797619047619047\n",
       "NDWFS J142922.8+351219 217.34524999999994 ...         0.12797619047619047\n",
       "             NGC  2768 137.90626666666668 ...                      0.0625"
      ]
     },
     "execution_count": 12,
     "metadata": {},
     "output_type": "execute_result"
    }
   ],
   "source": [
    "# Creates and displays the final target data, including name,\n",
    "# ra, dec, and fraction of time observable.\n",
    "\n",
    "observability.remove_columns([\"ever observable\", \"always observable\"])\n",
    "final_targets = join(targets_raw, observability)\n",
    "final_targets[:10:]"
   ]
  },
  {
   "cell_type": "code",
   "execution_count": 13,
   "metadata": {},
   "outputs": [],
   "source": [
    "# We got rained out! Repeat observability check for one month later.\n",
    "\n",
    "time_start = Time(['2019-6-1 00:00:00'])\n",
    "time_end = Time(['2019-6-15 00:00:00'])\n",
    "constraints = [AirmassConstraint(1.5), AtNightConstraint.twilight_astronomical(), \n",
    "               TimeConstraint(time_start, time_end), \n",
    "               MoonIlluminationConstraint(min = None, max = 0.1),\n",
    "               MoonSeparationConstraint(min = 40*u.deg, max = None)]\n",
    "\n",
    "observability = observability_table(constraints, dao, targets, time_range = (time_start, time_end))\n",
    "observability = observability.group_by(\"ever observable\")\n",
    "observability = observability.groups[1]"
   ]
  },
  {
   "cell_type": "code",
   "execution_count": 14,
   "metadata": {},
   "outputs": [
    {
     "data": {
      "text/html": [
       "<i>Table length=10</i>\n",
       "<table id=\"table139867358520880\" class=\"table-striped table-bordered table-condensed\">\n",
       "<thead><tr><th>target name</th><th>ra</th><th>dec</th><th>fraction of time observable</th></tr></thead>\n",
       "<thead><tr><th>str37</th><th>float64</th><th>float64</th><th>float64</th></tr></thead>\n",
       "<tr><td>M  51</td><td>202.469575</td><td>47.19525833333333</td><td>0.041666666666666664</td></tr>\n",
       "<tr><td>M  63</td><td>198.9553077198746</td><td>42.0293683550047</td><td>0.041666666666666664</td></tr>\n",
       "<tr><td>M  94</td><td>192.72145</td><td>41.120152777777776</td><td>0.03571428571428571</td></tr>\n",
       "<tr><td>M 101</td><td>210.80242916666668</td><td>54.34875</td><td>0.041666666666666664</td></tr>\n",
       "<tr><td>M 102</td><td>226.62317083333332</td><td>55.76330833333333</td><td>0.041666666666666664</td></tr>\n",
       "<tr><td>M 106</td><td>184.7400833333333</td><td>47.30371944444444</td><td>0.03125</td></tr>\n",
       "<tr><td>M 108</td><td>167.87902916666664</td><td>55.67412222222222</td><td>0.017857142857142856</td></tr>\n",
       "<tr><td>M 109</td><td>179.3999333333333</td><td>53.374519444444445</td><td>0.03125</td></tr>\n",
       "<tr><td>NDWFS J142922.8+351219</td><td>217.34524999999994</td><td>35.20525000000001</td><td>0.041666666666666664</td></tr>\n",
       "<tr><td>NGC  3675</td><td>171.5357666666667</td><td>43.58591666666667</td><td>0.00744047619047619</td></tr>\n",
       "</table>"
      ],
      "text/plain": [
       "<Table length=10>\n",
       "     target name               ra         ... fraction of time observable\n",
       "        str37               float64       ...           float64          \n",
       "---------------------- ------------------ ... ---------------------------\n",
       "                 M  51         202.469575 ...        0.041666666666666664\n",
       "                 M  63  198.9553077198746 ...        0.041666666666666664\n",
       "                 M  94          192.72145 ...         0.03571428571428571\n",
       "                 M 101 210.80242916666668 ...        0.041666666666666664\n",
       "                 M 102 226.62317083333332 ...        0.041666666666666664\n",
       "                 M 106  184.7400833333333 ...                     0.03125\n",
       "                 M 108 167.87902916666664 ...        0.017857142857142856\n",
       "                 M 109  179.3999333333333 ...                     0.03125\n",
       "NDWFS J142922.8+351219 217.34524999999994 ...        0.041666666666666664\n",
       "             NGC  3675  171.5357666666667 ...         0.00744047619047619"
      ]
     },
     "execution_count": 14,
     "metadata": {},
     "output_type": "execute_result"
    }
   ],
   "source": [
    "observability.remove_columns([\"ever observable\", \"always observable\"])\n",
    "final_targets = join(targets_raw, observability)\n",
    "final_targets[:10:]"
   ]
  },
  {
   "cell_type": "code",
   "execution_count": null,
   "metadata": {},
   "outputs": [],
   "source": []
  },
  {
   "cell_type": "code",
   "execution_count": null,
   "metadata": {},
   "outputs": [],
   "source": []
  },
  {
   "cell_type": "code",
   "execution_count": null,
   "metadata": {},
   "outputs": [],
   "source": []
  }
 ],
 "metadata": {
  "kernelspec": {
   "display_name": "Python 3",
   "language": "python",
   "name": "python3"
  },
  "language_info": {
   "codemirror_mode": {
    "name": "ipython",
    "version": 3
   },
   "file_extension": ".py",
   "mimetype": "text/x-python",
   "name": "python",
   "nbconvert_exporter": "python",
   "pygments_lexer": "ipython3",
   "version": "3.7.3"
  }
 },
 "nbformat": 4,
 "nbformat_minor": 2
}
