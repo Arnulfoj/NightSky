{
 "cells": [
  {
   "cell_type": "code",
   "execution_count": 2,
   "metadata": {},
   "outputs": [
    {
     "name": "stdout",
     "output_type": "stream",
     "text": [
      "Downloading http://maia.usno.navy.mil/ser7/finals2000A.all [Done]\n"
     ]
    }
   ],
   "source": [
    "%matplotlib inline\n",
    "import matplotlib.pyplot as plt\n",
    "import numpy as np\n",
    "import pandas as pd\n",
    "import astropy.units as u\n",
    "from astropy.time import Time\n",
    "import pytz\n",
    "import astropy\n",
    "from astropy.coordinates import SkyCoord\n",
    "from astroplan import Observer, FixedTarget, observability_table, Constraint\n",
    "from astropy.coordinates import get_sun, get_body, get_moon\n",
    "from astroplan import moon_illumination\n",
    "from astroplan import *\n",
    "from astroplan import download_IERS_A\n",
    "download_IERS_A()"
   ]
  },
  {
   "cell_type": "markdown",
   "metadata": {},
   "source": [
    "# Setup"
   ]
  },
  {
   "cell_type": "code",
   "execution_count": 3,
   "metadata": {},
   "outputs": [],
   "source": [
    "# Set up the location of observatory\n",
    "palomar = Observer.at_site('Palomar')"
   ]
  },
  {
   "cell_type": "markdown",
   "metadata": {},
   "source": [
    "We get the dataset from https://www.cosmos.esa.int/web/hipparcos/sample-tables-1"
   ]
  },
  {
   "cell_type": "code",
   "execution_count": 4,
   "metadata": {},
   "outputs": [],
   "source": [
    "data = pd.read_csv('data2.csv')"
   ]
  },
  {
   "cell_type": "code",
   "execution_count": 5,
   "metadata": {},
   "outputs": [],
   "source": [
    "#Pick out the objects having names\n",
    "mask = list()\n",
    "for n in range(len(data['Name'])):\n",
    "    if(isinstance(data['Name'][n],str)):\n",
    "        mask.append(True)\n",
    "    else:\n",
    "        mask.append(False)\n",
    "data[mask].to_csv('hipparcos.csv')"
   ]
  },
  {
   "cell_type": "code",
   "execution_count": 6,
   "metadata": {},
   "outputs": [],
   "source": [
    "star_table = pd.read_csv('hipparcos.csv')"
   ]
  },
  {
   "cell_type": "code",
   "execution_count": 7,
   "metadata": {},
   "outputs": [],
   "source": [
    "#Set the observing window\n",
    "obs_dates = list()\n",
    "for i in range(15,31):\n",
    "    date = \"2019-10-\" + str(i)\n",
    "    time = Time(date)\n",
    "    obs_dates.append(time)"
   ]
  },
  {
   "cell_type": "markdown",
   "metadata": {},
   "source": [
    "# Visibility"
   ]
  },
  {
   "cell_type": "code",
   "execution_count": 8,
   "metadata": {},
   "outputs": [],
   "source": [
    "#Complie a list of all defined objects\n",
    "stars = list()\n",
    "for s in range(len(star_table['Name'])):\n",
    "    coords = SkyCoord(star_table['ra (deg)'][s]*u.deg, \n",
    "                                star_table['dec (deg)'][s]*u.deg, \n",
    "                                frame='icrs')\n",
    "    stars.append(FixedTarget(name=star_table['Name'][s], coord=coords))"
   ]
  },
  {
   "cell_type": "markdown",
   "metadata": {},
   "source": [
    "#Create an observability table"
   ]
  },
  {
   "cell_type": "code",
   "execution_count": 9,
   "metadata": {},
   "outputs": [],
   "source": [
    "time = Time([\"2019-10-15 00:00\", \"2019-10-30 23:59\"])"
   ]
  },
  {
   "cell_type": "code",
   "execution_count": 10,
   "metadata": {},
   "outputs": [],
   "source": [
    "#The moon's illumination values are from: https://www.calendar-12.com/moon_calendar/2019/october\n",
    "#Use the mean value of the moon's illumination during our observing window\n",
    "constraint = [AltitudeConstraint(30*u.deg, 90*u.deg),AirmassConstraint(2), \n",
    "              AtNightConstraint.twilight_astronomical(),MoonIlluminationConstraint(0.4),\n",
    "              MoonSeparationConstraint(min = 10*u.deg)]"
   ]
  },
  {
   "cell_type": "code",
   "execution_count": 11,
   "metadata": {},
   "outputs": [
    {
     "data": {
      "text/html": [
       "&lt;Table length=39&gt;\n",
       "<table id=\"table140634379413824\" class=\"table-striped table-bordered table-condensed\">\n",
       "<thead><tr><th>target name</th><th>ever observable</th><th>always observable</th><th>fraction of time observable</th></tr></thead>\n",
       "<thead><tr><th>str14</th><th>bool</th><th>bool</th><th>float64</th></tr></thead>\n",
       "<tr><td>alpha_Cen_C</td><td>False</td><td>False</td><td>0.0</td></tr>\n",
       "<tr><td>alpha^2_Cen</td><td>False</td><td>False</td><td>0.0</td></tr>\n",
       "<tr><td>alpha^1_Cen</td><td>False</td><td>False</td><td>0.0</td></tr>\n",
       "<tr><td>Barnard&apos;s_star</td><td>True</td><td>False</td><td>0.0078125</td></tr>\n",
       "<tr><td>alpha_CMa</td><td>True</td><td>False</td><td>0.040364583333333336</td></tr>\n",
       "<tr><td>epsilon_Eri</td><td>True</td><td>False</td><td>0.11067708333333333</td></tr>\n",
       "<tr><td>61_Cyg_A</td><td>True</td><td>False</td><td>0.07161458333333333</td></tr>\n",
       "<tr><td>alpha_CMi</td><td>True</td><td>False</td><td>0.052083333333333336</td></tr>\n",
       "<tr><td>61_Cyg_B</td><td>True</td><td>False</td><td>0.07161458333333333</td></tr>\n",
       "<tr><td>epsilon_Ind</td><td>False</td><td>False</td><td>0.0</td></tr>\n",
       "<tr><td>...</td><td>...</td><td>...</td><td>...</td></tr>\n",
       "<tr><td>pi^3_Ori</td><td>True</td><td>False</td><td>0.11067708333333333</td></tr>\n",
       "<tr><td>chi_Dra</td><td>True</td><td>False</td><td>0.044270833333333336</td></tr>\n",
       "<tr><td>p_Eri</td><td>False</td><td>False</td><td>0.0</td></tr>\n",
       "<tr><td>beta_CVn</td><td>False</td><td>False</td><td>0.0</td></tr>\n",
       "<tr><td>mu_Her</td><td>True</td><td>False</td><td>0.015625</td></tr>\n",
       "<tr><td>61_Vir</td><td>False</td><td>False</td><td>0.0</td></tr>\n",
       "<tr><td>zeta_Tuc</td><td>False</td><td>False</td><td>0.0</td></tr>\n",
       "<tr><td>chi^1_Ori</td><td>True</td><td>False</td><td>0.0859375</td></tr>\n",
       "<tr><td>gamma_Lep</td><td>True</td><td>False</td><td>0.045572916666666664</td></tr>\n",
       "<tr><td>delta_Eri</td><td>True</td><td>False</td><td>0.11197916666666667</td></tr>\n",
       "</table>"
      ],
      "text/plain": [
       "<Table length=39>\n",
       " target name   ever observable always observable fraction of time observable\n",
       "    str14            bool             bool                 float64          \n",
       "-------------- --------------- ----------------- ---------------------------\n",
       "   alpha_Cen_C           False             False                         0.0\n",
       "   alpha^2_Cen           False             False                         0.0\n",
       "   alpha^1_Cen           False             False                         0.0\n",
       "Barnard's_star            True             False                   0.0078125\n",
       "     alpha_CMa            True             False        0.040364583333333336\n",
       "   epsilon_Eri            True             False         0.11067708333333333\n",
       "      61_Cyg_A            True             False         0.07161458333333333\n",
       "     alpha_CMi            True             False        0.052083333333333336\n",
       "      61_Cyg_B            True             False         0.07161458333333333\n",
       "   epsilon_Ind           False             False                         0.0\n",
       "           ...             ...               ...                         ...\n",
       "      pi^3_Ori            True             False         0.11067708333333333\n",
       "       chi_Dra            True             False        0.044270833333333336\n",
       "         p_Eri           False             False                         0.0\n",
       "      beta_CVn           False             False                         0.0\n",
       "        mu_Her            True             False                    0.015625\n",
       "        61_Vir           False             False                         0.0\n",
       "      zeta_Tuc           False             False                         0.0\n",
       "     chi^1_Ori            True             False                   0.0859375\n",
       "     gamma_Lep            True             False        0.045572916666666664\n",
       "     delta_Eri            True             False         0.11197916666666667"
      ]
     },
     "execution_count": 11,
     "metadata": {},
     "output_type": "execute_result"
    }
   ],
   "source": [
    "observability_table(observer = palomar,\n",
    "                    constraints = constraint,\n",
    "                    targets = stars,\n",
    "                    time_range = time)"
   ]
  },
  {
   "cell_type": "code",
   "execution_count": 12,
   "metadata": {},
   "outputs": [],
   "source": [
    "#Pick ten observable objects for the following steps\n",
    "targets = list()\n",
    "targets.append(stars[4])\n",
    "targets.append(stars[5])\n",
    "targets.append(stars[6])\n",
    "targets.append(stars[7])\n",
    "targets.append(stars[8])\n",
    "targets.append(stars[3])\n",
    "targets.append(stars[38])\n",
    "targets.append(stars[37])\n",
    "targets.append(stars[36])\n",
    "targets.append(stars[29])"
   ]
  },
  {
   "cell_type": "code",
   "execution_count": 13,
   "metadata": {},
   "outputs": [
    {
     "data": {
      "text/html": [
       "&lt;Table length=10&gt;\n",
       "<table id=\"table140634333874440\" class=\"table-striped table-bordered table-condensed\">\n",
       "<thead><tr><th>target name</th><th>ever observable</th><th>always observable</th><th>fraction of time observable</th></tr></thead>\n",
       "<thead><tr><th>str14</th><th>bool</th><th>bool</th><th>float64</th></tr></thead>\n",
       "<tr><td>alpha_CMa</td><td>True</td><td>False</td><td>0.00390625</td></tr>\n",
       "<tr><td>epsilon_Eri</td><td>True</td><td>False</td><td>0.014322916666666666</td></tr>\n",
       "<tr><td>61_Cyg_A</td><td>True</td><td>False</td><td>0.016927083333333332</td></tr>\n",
       "<tr><td>alpha_CMi</td><td>True</td><td>False</td><td>0.005208333333333333</td></tr>\n",
       "<tr><td>61_Cyg_B</td><td>True</td><td>False</td><td>0.016927083333333332</td></tr>\n",
       "<tr><td>Barnard&apos;s_star</td><td>True</td><td>False</td><td>0.006510416666666667</td></tr>\n",
       "<tr><td>delta_Eri</td><td>True</td><td>False</td><td>0.013020833333333334</td></tr>\n",
       "<tr><td>gamma_Lep</td><td>True</td><td>False</td><td>0.005208333333333333</td></tr>\n",
       "<tr><td>chi^1_Ori</td><td>True</td><td>False</td><td>0.01171875</td></tr>\n",
       "<tr><td>pi^3_Ori</td><td>True</td><td>False</td><td>0.013020833333333334</td></tr>\n",
       "</table>"
      ],
      "text/plain": [
       "<Table length=10>\n",
       " target name   ever observable always observable fraction of time observable\n",
       "    str14            bool             bool                 float64          \n",
       "-------------- --------------- ----------------- ---------------------------\n",
       "     alpha_CMa            True             False                  0.00390625\n",
       "   epsilon_Eri            True             False        0.014322916666666666\n",
       "      61_Cyg_A            True             False        0.016927083333333332\n",
       "     alpha_CMi            True             False        0.005208333333333333\n",
       "      61_Cyg_B            True             False        0.016927083333333332\n",
       "Barnard's_star            True             False        0.006510416666666667\n",
       "     delta_Eri            True             False        0.013020833333333334\n",
       "     gamma_Lep            True             False        0.005208333333333333\n",
       "     chi^1_Ori            True             False                  0.01171875\n",
       "      pi^3_Ori            True             False        0.013020833333333334"
      ]
     },
     "execution_count": 13,
     "metadata": {},
     "output_type": "execute_result"
    }
   ],
   "source": [
    "#Check the visibility of the ten objects with the highest value of moon's illumination\n",
    "constraint = [AltitudeConstraint(30*u.deg, 90*u.deg),AirmassConstraint(2), \n",
    "              AtNightConstraint.twilight_astronomical(),MoonIlluminationConstraint(0.95),\n",
    "              MoonSeparationConstraint(min = 10*u.deg)]\n",
    "observability_table(observer = palomar,\n",
    "                    constraints = constraint,\n",
    "                    targets = targets,\n",
    "                    time_range = time)"
   ]
  },
  {
   "cell_type": "code",
   "execution_count": 14,
   "metadata": {},
   "outputs": [
    {
     "data": {
      "text/html": [
       "&lt;Table length=10&gt;\n",
       "<table id=\"table140634334075312\" class=\"table-striped table-bordered table-condensed\">\n",
       "<thead><tr><th>target name</th><th>ever observable</th><th>always observable</th><th>fraction of time observable</th></tr></thead>\n",
       "<thead><tr><th>str14</th><th>bool</th><th>bool</th><th>float64</th></tr></thead>\n",
       "<tr><td>alpha_CMa</td><td>True</td><td>False</td><td>0.06510416666666667</td></tr>\n",
       "<tr><td>epsilon_Eri</td><td>True</td><td>False</td><td>0.13411458333333334</td></tr>\n",
       "<tr><td>61_Cyg_A</td><td>True</td><td>False</td><td>0.07161458333333333</td></tr>\n",
       "<tr><td>alpha_CMi</td><td>True</td><td>False</td><td>0.07942708333333333</td></tr>\n",
       "<tr><td>61_Cyg_B</td><td>True</td><td>False</td><td>0.07161458333333333</td></tr>\n",
       "<tr><td>Barnard&apos;s_star</td><td>True</td><td>False</td><td>0.0078125</td></tr>\n",
       "<tr><td>delta_Eri</td><td>True</td><td>False</td><td>0.13541666666666666</td></tr>\n",
       "<tr><td>gamma_Lep</td><td>True</td><td>False</td><td>0.07291666666666667</td></tr>\n",
       "<tr><td>chi^1_Ori</td><td>True</td><td>False</td><td>0.11588541666666667</td></tr>\n",
       "<tr><td>pi^3_Ori</td><td>True</td><td>False</td><td>0.140625</td></tr>\n",
       "</table>"
      ],
      "text/plain": [
       "<Table length=10>\n",
       " target name   ever observable always observable fraction of time observable\n",
       "    str14            bool             bool                 float64          \n",
       "-------------- --------------- ----------------- ---------------------------\n",
       "     alpha_CMa            True             False         0.06510416666666667\n",
       "   epsilon_Eri            True             False         0.13411458333333334\n",
       "      61_Cyg_A            True             False         0.07161458333333333\n",
       "     alpha_CMi            True             False         0.07942708333333333\n",
       "      61_Cyg_B            True             False         0.07161458333333333\n",
       "Barnard's_star            True             False                   0.0078125\n",
       "     delta_Eri            True             False         0.13541666666666666\n",
       "     gamma_Lep            True             False         0.07291666666666667\n",
       "     chi^1_Ori            True             False         0.11588541666666667\n",
       "      pi^3_Ori            True             False                    0.140625"
      ]
     },
     "execution_count": 14,
     "metadata": {},
     "output_type": "execute_result"
    }
   ],
   "source": [
    "#Check the visibility of the ten objects with the lowest value of moon's illumination\n",
    "constraint = [AltitudeConstraint(30*u.deg, 90*u.deg),AirmassConstraint(2), \n",
    "              AtNightConstraint.twilight_astronomical(),MoonIlluminationConstraint(0.01),\n",
    "              MoonSeparationConstraint(min = 10*u.deg)]\n",
    "observability_table(observer = palomar,\n",
    "                    constraints = constraint,\n",
    "                    targets = targets,\n",
    "                    time_range = time)"
   ]
  },
  {
   "cell_type": "markdown",
   "metadata": {},
   "source": [
    "Therefore, these ten objects can be observed through the whole observing window."
   ]
  },
  {
   "cell_type": "markdown",
   "metadata": {},
   "source": [
    "# Moon Phase"
   ]
  },
  {
   "cell_type": "markdown",
   "metadata": {},
   "source": [
    "We found the moon phases from: https://www.calendar-12.com/moon_calendar/2019/october\n",
    "And based on the moon phases calendar, the moon will be waning gibbous on Oct 15th, 2019 (the start of our observing window) and keep waning until Oct 27th, 2019. Then the moon will be waxing from a new one at the end of our window."
   ]
  },
  {
   "cell_type": "code",
   "execution_count": 15,
   "metadata": {},
   "outputs": [
    {
     "name": "stdout",
     "output_type": "stream",
     "text": [
      "2019-10-15 00:00:00.000\n",
      "0.9865561943920241\n",
      "\n",
      "\n",
      "2019-10-16 00:00:00.000\n",
      "0.9562520875685778\n",
      "\n",
      "\n",
      "2019-10-17 00:00:00.000\n",
      "0.9074664247952995\n",
      "\n",
      "\n",
      "2019-10-18 00:00:00.000\n",
      "0.841225405905627\n",
      "\n",
      "\n",
      "2019-10-19 00:00:00.000\n",
      "0.759277143961225\n",
      "\n",
      "\n",
      "2019-10-20 00:00:00.000\n",
      "0.6641422433892282\n",
      "\n",
      "\n",
      "2019-10-21 00:00:00.000\n",
      "0.5591863674409921\n",
      "\n",
      "\n",
      "2019-10-22 00:00:00.000\n",
      "0.4487097215990062\n",
      "\n",
      "\n",
      "2019-10-23 00:00:00.000\n",
      "0.33800752114318117\n",
      "\n",
      "\n",
      "2019-10-24 00:00:00.000\n",
      "0.23329781313288983\n",
      "\n",
      "\n",
      "2019-10-25 00:00:00.000\n",
      "0.14137422531697247\n",
      "\n",
      "\n",
      "2019-10-26 00:00:00.000\n",
      "0.06888788130022877\n",
      "\n",
      "\n",
      "2019-10-27 00:00:00.000\n",
      "0.021331664431187447\n",
      "\n",
      "\n",
      "2019-10-28 00:00:00.000\n",
      "0.0020219486781750673\n",
      "\n",
      "\n",
      "2019-10-29 00:00:00.000\n",
      "0.011482916033771717\n",
      "\n",
      "\n",
      "2019-10-30 00:00:00.000\n",
      "0.047509435596680194\n",
      "\n",
      "\n"
     ]
    }
   ],
   "source": [
    "#The moon's illumination\n",
    "for i in range(len(obs_dates)):\n",
    "    moon_ratio = moon_illumination(obs_dates[i])\n",
    "    print(obs_dates[i])\n",
    "    print(moon_ratio)\n",
    "    print(\"\\n\")"
   ]
  },
  {
   "cell_type": "markdown",
   "metadata": {},
   "source": [
    "Combined with the moon's illumination, the moon will interfere with our observation somewhat at the beginning of our observing window. And with the moon waning later, the interference would be ignored."
   ]
  },
  {
   "cell_type": "markdown",
   "metadata": {},
   "source": [
    "# Visibility one month later"
   ]
  },
  {
   "cell_type": "code",
   "execution_count": 16,
   "metadata": {},
   "outputs": [],
   "source": [
    "#New time range\n",
    "time2 = Time([\"2019-11-15 00:00\", \"2019-11-30 23:59\"])"
   ]
  },
  {
   "cell_type": "code",
   "execution_count": 17,
   "metadata": {},
   "outputs": [],
   "source": [
    "obs_dates2 = list()\n",
    "for i in range(15,31):\n",
    "    date = \"2019-11-\" + str(i)\n",
    "    time = Time(date)\n",
    "    obs_dates2.append(time)"
   ]
  },
  {
   "cell_type": "code",
   "execution_count": 18,
   "metadata": {},
   "outputs": [
    {
     "data": {
      "text/plain": [
       "0.3486490005684685"
      ]
     },
     "execution_count": 18,
     "metadata": {},
     "output_type": "execute_result"
    }
   ],
   "source": [
    "# The moon's illumination values are from: https://www.calendar-12.com/moon_calendar/2019/november\n",
    "#Use the mean value of the moon's illumination during the observing window again\n",
    "illum = list()\n",
    "for i in range(len(obs_dates2)):\n",
    "    moon_ratio = moon_illumination(obs_dates2[i])\n",
    "    illum.append(moon_ratio)\n",
    "np.mean(illum)"
   ]
  },
  {
   "cell_type": "code",
   "execution_count": 19,
   "metadata": {},
   "outputs": [],
   "source": [
    "constraint = [AltitudeConstraint(30*u.deg, 90*u.deg),AirmassConstraint(2), \n",
    "              AtNightConstraint.twilight_astronomical(),MoonIlluminationConstraint(0.35),\n",
    "              MoonSeparationConstraint(min = 10*u.deg)]"
   ]
  },
  {
   "cell_type": "code",
   "execution_count": 20,
   "metadata": {},
   "outputs": [
    {
     "data": {
      "text/html": [
       "&lt;Table length=10&gt;\n",
       "<table id=\"table140634336608208\" class=\"table-striped table-bordered table-condensed\">\n",
       "<thead><tr><th>target name</th><th>ever observable</th><th>always observable</th><th>fraction of time observable</th></tr></thead>\n",
       "<thead><tr><th>str14</th><th>bool</th><th>bool</th><th>float64</th></tr></thead>\n",
       "<tr><td>alpha_CMa</td><td>True</td><td>False</td><td>0.06640625</td></tr>\n",
       "<tr><td>epsilon_Eri</td><td>True</td><td>False</td><td>0.07421875</td></tr>\n",
       "<tr><td>61_Cyg_A</td><td>True</td><td>False</td><td>0.020833333333333332</td></tr>\n",
       "<tr><td>alpha_CMi</td><td>True</td><td>False</td><td>0.07682291666666667</td></tr>\n",
       "<tr><td>61_Cyg_B</td><td>True</td><td>False</td><td>0.020833333333333332</td></tr>\n",
       "<tr><td>Barnard&apos;s_star</td><td>False</td><td>False</td><td>0.0</td></tr>\n",
       "<tr><td>delta_Eri</td><td>True</td><td>False</td><td>0.078125</td></tr>\n",
       "<tr><td>gamma_Lep</td><td>True</td><td>False</td><td>0.046875</td></tr>\n",
       "<tr><td>chi^1_Ori</td><td>True</td><td>False</td><td>0.078125</td></tr>\n",
       "<tr><td>pi^3_Ori</td><td>True</td><td>False</td><td>0.10546875</td></tr>\n",
       "</table>"
      ],
      "text/plain": [
       "<Table length=10>\n",
       " target name   ever observable always observable fraction of time observable\n",
       "    str14            bool             bool                 float64          \n",
       "-------------- --------------- ----------------- ---------------------------\n",
       "     alpha_CMa            True             False                  0.06640625\n",
       "   epsilon_Eri            True             False                  0.07421875\n",
       "      61_Cyg_A            True             False        0.020833333333333332\n",
       "     alpha_CMi            True             False         0.07682291666666667\n",
       "      61_Cyg_B            True             False        0.020833333333333332\n",
       "Barnard's_star           False             False                         0.0\n",
       "     delta_Eri            True             False                    0.078125\n",
       "     gamma_Lep            True             False                    0.046875\n",
       "     chi^1_Ori            True             False                    0.078125\n",
       "      pi^3_Ori            True             False                  0.10546875"
      ]
     },
     "execution_count": 20,
     "metadata": {},
     "output_type": "execute_result"
    }
   ],
   "source": [
    "observability_table(observer = palomar,\n",
    "                    constraints = constraint,\n",
    "                    targets = targets,\n",
    "                    time_range = time2)"
   ]
  },
  {
   "cell_type": "markdown",
   "metadata": {},
   "source": [
    "Thus, the situation will be worse for the ten objects."
   ]
  },
  {
   "cell_type": "code",
   "execution_count": null,
   "metadata": {},
   "outputs": [],
   "source": []
  },
  {
   "cell_type": "code",
   "execution_count": null,
   "metadata": {},
   "outputs": [],
   "source": []
  }
 ],
 "metadata": {
  "kernelspec": {
   "display_name": "Python 3",
   "language": "python",
   "name": "python3"
  },
  "language_info": {
   "codemirror_mode": {
    "name": "ipython",
    "version": 3
   },
   "file_extension": ".py",
   "mimetype": "text/x-python",
   "name": "python",
   "nbconvert_exporter": "python",
   "pygments_lexer": "ipython3",
   "version": "3.6.8"
  }
 },
 "nbformat": 4,
 "nbformat_minor": 2
}
