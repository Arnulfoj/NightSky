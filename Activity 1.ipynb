{
 "cells": [
  {
   "cell_type": "code",
   "execution_count": 2,
   "metadata": {},
   "outputs": [],
   "source": [
    "%matplotlib inline\n",
    "import matplotlib.pyplot as plt\n",
    "\n",
    "import numpy as np\n",
    "import pandas as pd\n",
    "\n",
    "import astropy.units as u\n",
    "from astropy.time import Time\n",
    "from astropy.coordinates import SkyCoord\n",
    "import pytz\n",
    "\n",
    "import warnings\n",
    "warnings.filterwarnings('ignore', category=Warning)\n",
    "\n",
    "from astroplan.plots import plot_sky, plot_airmass\n",
    "from astroplan import Observer, FixedTarget, time_grid_from_range, observability_table, moon_illumination\n",
    "from astroplan import AirmassConstraint, MoonSeparationConstraint"
   ]
  },
  {
   "cell_type": "code",
   "execution_count": 3,
   "metadata": {},
   "outputs": [],
   "source": [
    "from astroplan import get_IERS_A_or_workaround\n",
    "\n",
    "get_IERS_A_or_workaround()"
   ]
  },
  {
   "cell_type": "code",
   "execution_count": 30,
   "metadata": {},
   "outputs": [],
   "source": [
    "coords = SkyCoord('0h42m44.0s', '+41d16m09s', frame='icrs')\n",
    "\n",
    "M31 = FixedTarget(name='M31', coord=coords)"
   ]
  },
  {
   "cell_type": "code",
   "execution_count": 31,
   "metadata": {},
   "outputs": [],
   "source": [
    "my_target = FixedTarget.from_name(\"M31\")"
   ]
  },
  {
   "cell_type": "code",
   "execution_count": 11,
   "metadata": {},
   "outputs": [],
   "source": [
    "APO = Observer(longitude = -105 * u.deg,\n",
    "                    latitude = 32 * u.deg,\n",
    "                    elevation = 0 * u.m,\n",
    "                    timezone = 'America/Boise',\n",
    "                    name = \"APO\"\n",
    "                    )"
   ]
  },
  {
   "cell_type": "code",
   "execution_count": 32,
   "metadata": {},
   "outputs": [
    {
     "name": "stdout",
     "output_type": "stream",
     "text": [
      "2019-04-16 06:00:00-06:00\n"
     ]
    }
   ],
   "source": [
    "window_start = Time(\"2019-4-16 12:00:00\")\n",
    "window_end = Time(\"2019-4-17 12:00:00\")\n",
    "print(window_start.to_datetime(APO.timezone))"
   ]
  },
  {
   "cell_type": "code",
   "execution_count": 35,
   "metadata": {},
   "outputs": [
    {
     "name": "stdout",
     "output_type": "stream",
     "text": [
      "You can observe for 8.2 h tonight. Winter is the best season.\n"
     ]
    }
   ],
   "source": [
    "observe_start1 = APO.twilight_evening_astronomical(window_start, which='previous')\n",
    "observe_end1 = APO.twilight_morning_astronomical(window_start, which='nearest')\n",
    "observing_length1 = (observe_end1 - observe_start1)\n",
    "observing_range1 = [observe_start1, observe_end1]\n",
    "print(\"You can observe for {0:.1f} tonight. Winter is the best season.\".format(observing_length1.to(u.h)))"
   ]
  },
  {
   "cell_type": "code",
   "execution_count": 38,
   "metadata": {},
   "outputs": [
    {
     "name": "stdout",
     "output_type": "stream",
     "text": [
      "2019-12-31 05:00:00-07:00\n"
     ]
    }
   ],
   "source": [
    "window_start = Time(\"2019-12-31 12:00:00\")\n",
    "window_end = Time(\"2020-1-1 12:00:00\")\n",
    "print(window_start.to_datetime(APO.timezone))"
   ]
  },
  {
   "cell_type": "code",
   "execution_count": 39,
   "metadata": {},
   "outputs": [
    {
     "name": "stdout",
     "output_type": "stream",
     "text": [
      "You can observe for 11.0 h tonight. Winter is the best season.\n"
     ]
    }
   ],
   "source": [
    "observe_start1 = APO.twilight_evening_astronomical(window_start, which='previous')\n",
    "observe_end1 = APO.twilight_morning_astronomical(window_start, which='nearest')\n",
    "observing_length1 = (observe_end1 - observe_start1)\n",
    "observing_range1 = [observe_start1, observe_end1]\n",
    "print(\"You can observe for {0:.1f} tonight. Winter is the best season.\".format(observing_length1.to(u.h)))"
   ]
  },
  {
   "cell_type": "code",
   "execution_count": null,
   "metadata": {},
   "outputs": [],
   "source": []
  }
 ],
 "metadata": {
  "kernelspec": {
   "display_name": "Python 3",
   "language": "python",
   "name": "python3"
  },
  "language_info": {
   "codemirror_mode": {
    "name": "ipython",
    "version": 3
   },
   "file_extension": ".py",
   "mimetype": "text/x-python",
   "name": "python",
   "nbconvert_exporter": "python",
   "pygments_lexer": "ipython3",
   "version": "3.7.3"
  }
 },
 "nbformat": 4,
 "nbformat_minor": 2
}
