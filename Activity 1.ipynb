{
 "cells": [
  {
   "cell_type": "code",
   "execution_count": 4,
   "metadata": {},
   "outputs": [],
   "source": [
    "%matplotlib inline\n",
    "import matplotlib.pyplot as plt\n",
    "\n",
    "import numpy as np\n",
    "import pandas as pd\n",
    "\n",
    "import astropy.units as u\n",
    "from astropy.time import Time\n",
    "from astropy.coordinates import SkyCoord, get_sun, get_moon\n",
    "import pytz\n",
    "\n",
    "import warnings\n",
    "warnings.filterwarnings('ignore', category=Warning)\n",
    "\n",
    "from astroplan.plots import plot_sky, plot_airmass\n",
    "from astroplan import Observer, FixedTarget, time_grid_from_range, observability_table, moon_illumination\n",
    "from astroplan import AirmassConstraint, MoonSeparationConstraint"
   ]
  },
  {
   "cell_type": "code",
   "execution_count": 5,
   "metadata": {},
   "outputs": [],
   "source": [
    "from astroplan import get_IERS_A_or_workaround\n",
    "\n",
    "get_IERS_A_or_workaround()"
   ]
  },
  {
   "cell_type": "code",
   "execution_count": 6,
   "metadata": {},
   "outputs": [],
   "source": [
    "coords = SkyCoord('0h42m44.0s', '+41d16m09s', frame='icrs')\n",
    "\n",
    "M31 = FixedTarget(name='M31', coord=coords)"
   ]
  },
  {
   "cell_type": "code",
   "execution_count": 7,
   "metadata": {},
   "outputs": [],
   "source": [
    "my_target = FixedTarget.from_name(\"M31\")"
   ]
  },
  {
   "cell_type": "code",
   "execution_count": 8,
   "metadata": {},
   "outputs": [],
   "source": [
    "APO = Observer(longitude = -105 * u.deg,\n",
    "                    latitude = 32 * u.deg,\n",
    "                    elevation = 0 * u.m,\n",
    "                    timezone = 'America/Boise',\n",
    "                    name = \"APO\"\n",
    "                    )"
   ]
  },
  {
   "cell_type": "code",
   "execution_count": 15,
   "metadata": {},
   "outputs": [
    {
     "name": "stdout",
     "output_type": "stream",
     "text": [
      "2019-04-16 06:00:00-06:00\n"
     ]
    }
   ],
   "source": [
    "window_start2 = Time(\"2019-4-16 12:00:00\")\n",
    "window_end2 = Time(\"2019-4-17 12:00:00\")\n",
    "print(window_start2.to_datetime(APO.timezone))"
   ]
  },
  {
   "cell_type": "code",
   "execution_count": 28,
   "metadata": {},
   "outputs": [
    {
     "name": "stdout",
     "output_type": "stream",
     "text": [
      "You can observe for 8.2 h tonight. Winter is the best season.\n"
     ]
    }
   ],
   "source": [
    "observe_start = APO.twilight_evening_astronomical(window_start2, which='previous')\n",
    "observe_end = APO.twilight_morning_astronomical(window_start2, which='nearest')\n",
    "observing_length = (observe_end - observe_start)\n",
    "observing_range = [observe_start, observe_end]\n",
    "print(\"You can observe for {0:.1f} tonight.\".format(observing_length.to(u.h)))"
   ]
  },
  {
   "cell_type": "code",
   "execution_count": 65,
   "metadata": {},
   "outputs": [
    {
     "name": "stdout",
     "output_type": "stream",
     "text": [
      "2019-12-31 05:00:00-07:00\n"
     ]
    }
   ],
   "source": [
    "window_start = Time(\"2019-12-31 12:00:00\")\n",
    "window_end = Time(\"2020-1-1 12:00:00\")\n",
    "print(window_start.to_datetime(APO.timezone))"
   ]
  },
  {
   "cell_type": "code",
   "execution_count": 71,
   "metadata": {},
   "outputs": [
    {
     "name": "stdout",
     "output_type": "stream",
     "text": [
      "You can observe for 11.0 h tonight.\n"
     ]
    }
   ],
   "source": [
    "observe_start1 = APO.twilight_evening_astronomical(window_start, which='previous')\n",
    "observe_end1 = APO.twilight_morning_astronomical(window_start, which='nearest')\n",
    "observing_length1 = (observe_end1 - observe_start1)\n",
    "observing_range1 = [observe_start1, observe_end1]\n",
    "print(\"You can observe for {0:.1f} tonight.\".format(observing_length1.to(u.h)))"
   ]
  },
  {
   "cell_type": "code",
   "execution_count": 67,
   "metadata": {},
   "outputs": [
    {
     "data": {
      "text/plain": [
       "0.21625726075476903"
      ]
     },
     "execution_count": 67,
     "metadata": {},
     "output_type": "execute_result"
    }
   ],
   "source": [
    "window = Time(\"2019-12-31 00:00:00\")\n",
    "\n",
    "from astroplan import moon_illumination\n",
    "moon_illumination(window)"
   ]
  },
  {
   "cell_type": "code",
   "execution_count": 68,
   "metadata": {},
   "outputs": [],
   "source": [
    "%matplotlib inline\n",
    "import matplotlib.pyplot as plt\n",
    "\n",
    "from astroplan import time_grid_from_range\n",
    "from astroplan.plots import plot_sky, plot_airmass"
   ]
  },
  {
   "cell_type": "code",
   "execution_count": 69,
   "metadata": {},
   "outputs": [],
   "source": [
    "window_range = [window_start, window_end]\n",
    "window_time_grid = time_grid_from_range(window_range)"
   ]
  },
  {
   "cell_type": "code",
   "execution_count": 70,
   "metadata": {},
   "outputs": [
    {
     "data": {
      "image/png": "[encoded data removed]",
      "text/plain": [
       "<Figure size 720x360 with 1 Axes>"
      ]
     },
     "metadata": {
      "needs_background": "light"
     },
     "output_type": "display_data"
    }
   ],
   "source": [
    "fig,ax = plt.subplots(1,1)\n",
    "fig.set_size_inches(10,5)\n",
    "\n",
    "fig.tight_layout()\n",
    "\n",
    "ax = plot_airmass(my_target, APO, window_time_grid)\n",
    "\n",
    "ax.vlines(observe_start1.datetime, 1,3, color='r', linewidth=5)\n",
    "ax.vlines(observe_end1.datetime, 1,3, color='r', linewidth=5)\n",
    "\n",
    "\n",
    "ax.vlines(0.4, -0.4, 0.8, color='m', linewidth=3)                    # vlines(x, ymin, ymax)\n",
    "ax.hlines(1.5,  observe_end1.datetime, observe_start1.datetime, color='y', linewidth=5)                    \n",
    "\n",
    "ax.legend(loc=0,shadow=True);\n"
   ]
  },
  {
   "cell_type": "code",
   "execution_count": null,
   "metadata": {},
   "outputs": [],
   "source": [
    "#aim mass <1.5 for the most amount of time, also since RA is ~42 for m31, find when the sun has a RA of about 12-13,\n",
    "#when the sun is the opposite it is the best."
   ]
  },
  {
   "cell_type": "code",
   "execution_count": null,
   "metadata": {},
   "outputs": [],
   "source": []
  },
  {
   "cell_type": "code",
   "execution_count": null,
   "metadata": {},
   "outputs": [],
   "source": []
  },
  {
   "cell_type": "code",
   "execution_count": null,
   "metadata": {},
   "outputs": [],
   "source": []
  }
 ],
 "metadata": {
  "kernelspec": {
   "display_name": "Python 3",
   "language": "python",
   "name": "python3"
  },
  "language_info": {
   "codemirror_mode": {
    "name": "ipython",
    "version": 3
   },
   "file_extension": ".py",
   "mimetype": "text/x-python",
   "name": "python",
   "nbconvert_exporter": "python",
   "pygments_lexer": "ipython3",
   "version": "3.7.3"
  }
 },
 "nbformat": 4,
 "nbformat_minor": 2
}
