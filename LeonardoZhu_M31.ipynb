{
 "cells": [
  {
   "cell_type": "code",
   "execution_count": 1,
   "metadata": {},
   "outputs": [],
   "source": [
    "%matplotlib inline\n",
    "import matplotlib.pyplot as plt\n",
    "import numpy as np\n",
    "import pandas as pd\n",
    "import astropy.units as u\n",
    "from astropy.time import Time\n",
    "import pytz\n",
    "import astropy\n",
    "from astropy.coordinates import SkyCoord\n",
    "from astroplan import Observer, FixedTarget\n",
    "from astropy.coordinates import get_sun, get_body, get_moon\n",
    "from astroplan import moon_illumination\n",
    "from astroplan import time_grid_from_range\n",
    "from astroplan.plots import plot_airmass"
   ]
  },
  {
   "cell_type": "code",
   "execution_count": 2,
   "metadata": {},
   "outputs": [],
   "source": [
    "# Set up the location of observer\n",
    "apo = Observer(longitude = -105.820278 * u.deg,\n",
    "            latitude = 32.780278 * u.deg,\n",
    "            elevation = 1707 * u.m,\n",
    "            timezone = 'Antarctica/Davis', #http://tdc-www.harvard.edu/iraf/rvsao/bcvcorr/obsdb.html\n",
    "            name = \"Apache Point Observatory\"\n",
    "                    )\n",
    "# OR apo = Observer.at_site('Apache Point Observatory')\n",
    "\n",
    "target = FixedTarget.from_name(\"m31\")"
   ]
  },
  {
   "cell_type": "code",
   "execution_count": 3,
   "metadata": {},
   "outputs": [
    {
     "data": {
      "text/latex": [
       "$10^\\circ41{}^\\prime04.95{}^{\\prime\\prime}$"
      ],
      "text/plain": [
       "<Longitude 10.68470833 deg>"
      ]
     },
     "execution_count": 3,
     "metadata": {},
     "output_type": "execute_result"
    }
   ],
   "source": [
    "target.ra"
   ]
  },
  {
   "cell_type": "markdown",
   "metadata": {},
   "source": [
    "1. The best season for observation is in Autumn, since the position of M31 on the celestial sphere corresponds to our springtime based on its RA, which means in autumn the sun is at the opposite position to the object and then we could observe the object at night."
   ]
  },
  {
   "cell_type": "code",
   "execution_count": 4,
   "metadata": {},
   "outputs": [
    {
     "name": "stdout",
     "output_type": "stream",
     "text": [
      "The length of observing time is 8.11 h at APO on April 16th, 2019.\n"
     ]
    }
   ],
   "source": [
    "#2. The length of observing time on April 16th,2019 \n",
    "time1 = Time(\"2019-04-16\")\n",
    "reference_time = time1\n",
    "\n",
    "astro_set = apo.twilight_evening_astronomical(reference_time, which='nearest')\n",
    "astro_rise = apo.twilight_morning_astronomical(reference_time, which='next')\n",
    "\n",
    "observing_length = (astro_rise - astro_set).to(u.h)\n",
    "\n",
    "print(\"The length of observing time is {0:.2f} at APO on April 16th, 2019.\".format(observing_length))"
   ]
  },
  {
   "cell_type": "code",
   "execution_count": 5,
   "metadata": {},
   "outputs": [
    {
     "data": {
      "text/plain": [
       "21.625726075472407"
      ]
     },
     "execution_count": 5,
     "metadata": {},
     "output_type": "execute_result"
    }
   ],
   "source": [
    "#3. The moon on Dec 31st, 2019\n",
    "time2 = Time(\"2019-12-31\")\n",
    "reference_time = time2\n",
    "\n",
    "moon = get_body('moon', time2 )\n",
    "\n",
    "moon_illum = moon_illumination(time2) * 100\n",
    "moon_illum"
   ]
  },
  {
   "cell_type": "markdown",
   "metadata": {},
   "source": [
    "moon phase: https://www.timeanddate.com/moon/phases/"
   ]
  },
  {
   "cell_type": "code",
   "execution_count": 6,
   "metadata": {},
   "outputs": [
    {
     "name": "stdout",
     "output_type": "stream",
     "text": [
      "The moon would interfere with the observation somewhat on Dec 31st, 2019, \n",
      "    \n",
      "as it will be waxing from a new moon and its illumination will be 21.6% of the full moon's illumination.\n"
     ]
    }
   ],
   "source": [
    "print(\n",
    "    \"\"\"The moon would interfere with the observation somewhat on Dec 31st, 2019, \n",
    "    \\nas it will be waxing from a new moon and its illumination will be {0:.1f}% of the full moon's illumination.\"\"\".format(moon_illum)\n",
    ")"
   ]
  },
  {
   "cell_type": "code",
   "execution_count": 7,
   "metadata": {},
   "outputs": [
    {
     "name": "stdout",
     "output_type": "stream",
     "text": [
      "The length of observing time is 11.05 h at APO on Dec 31st, 2019.\n"
     ]
    }
   ],
   "source": [
    "#4. The length of time of observing the object\n",
    "reference_time = time2\n",
    "astro_set2 = apo.twilight_evening_astronomical(reference_time, which='nearest')\n",
    "astro_rise2 = apo.twilight_morning_astronomical(reference_time, which='next')\n",
    "\n",
    "observing_length2 = (astro_rise2 - astro_set2).to(u.h)\n",
    "\n",
    "print(\"The length of observing time is {0:.2f} at APO on Dec 31st, 2019.\".format(observing_length2))"
   ]
  },
  {
   "cell_type": "code",
   "execution_count": 8,
   "metadata": {},
   "outputs": [
    {
     "data": {
      "image/png": "[encoded data removed]",
      "text/plain": [
       "<matplotlib.figure.Figure at 0x7f82889b7eb8>"
      ]
     },
     "metadata": {
      "needs_background": "light"
     },
     "output_type": "display_data"
    }
   ],
   "source": [
    "start_time = astro_set2\n",
    "end_time = astro_rise2\n",
    "\n",
    "observing_range = [astro_set2, astro_rise2]\n",
    "\n",
    "time_grid = time_grid_from_range(observing_range)\n",
    "\n",
    "plot_airmass(target, apo, time_grid)\n",
    "plt.axhline(y=2, color='g');\n"
   ]
  },
  {
   "cell_type": "code",
   "execution_count": 9,
   "metadata": {},
   "outputs": [
    {
     "name": "stdout",
     "output_type": "stream",
     "text": [
      "The object can be observed clearly for 5 hours on Dec 31st, 2019.\n"
     ]
    }
   ],
   "source": [
    "print(\"The object can be observed clearly for 5 hours on Dec 31st, 2019.\")"
   ]
  },
  {
   "cell_type": "code",
   "execution_count": null,
   "metadata": {},
   "outputs": [],
   "source": []
  },
  {
   "cell_type": "code",
   "execution_count": null,
   "metadata": {},
   "outputs": [],
   "source": []
  }
 ],
 "metadata": {
  "kernelspec": {
   "display_name": "Python 3",
   "language": "python",
   "name": "python3"
  },
  "language_info": {
   "codemirror_mode": {
    "name": "ipython",
    "version": 3
   },
   "file_extension": ".py",
   "mimetype": "text/x-python",
   "name": "python",
   "nbconvert_exporter": "python",
   "pygments_lexer": "ipython3",
   "version": "3.6.8"
  }
 },
 "nbformat": 4,
 "nbformat_minor": 2
}
