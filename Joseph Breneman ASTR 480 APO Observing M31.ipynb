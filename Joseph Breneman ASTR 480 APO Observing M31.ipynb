{
 "cells": [
  {
   "cell_type": "code",
   "execution_count": 52,
   "metadata": {},
   "outputs": [],
   "source": [
    "%matplotlib inline\n",
    "import matplotlib.pyplot as plt\n",
    "import numpy as np\n",
    "import pandas as pd\n",
    "import astropy.units as u\n",
    "from astropy.time import Time\n",
    "from astropy.coordinates import SkyCoord\n",
    "from astroplan import Observer, FixedTarget\n",
    "from astropy.coordinates import get_sun, get_body, get_moon\n",
    "from astroplan import moon_illumination\n",
    "from astroplan import Observer\n",
    "from astroplan import time_grid_from_range\n",
    "from astroplan.plots import plot_airmass"
   ]
  },
  {
   "cell_type": "markdown",
   "metadata": {},
   "source": [
    "The best season for observing M31 is in the Autumn, since RA for M31 is ~1hr, which is Springtime (according to the ecliptic)."
   ]
  },
  {
   "cell_type": "code",
   "execution_count": 65,
   "metadata": {},
   "outputs": [],
   "source": [
    "APO=Observer.at_site(\"APO\")"
   ]
  },
  {
   "cell_type": "code",
   "execution_count": 66,
   "metadata": {},
   "outputs": [
    {
     "data": {
      "text/plain": [
       "<Time object: scale='utc' format='iso' value=2019-04-16 00:00:00.000>"
      ]
     },
     "execution_count": 66,
     "metadata": {},
     "output_type": "execute_result"
    }
   ],
   "source": [
    "date=Time(\"2019-04-16\")\n",
    "date"
   ]
  },
  {
   "cell_type": "code",
   "execution_count": 69,
   "metadata": {},
   "outputs": [
    {
     "name": "stdout",
     "output_type": "stream",
     "text": [
      "2019-04-16 02:59:43.579\n",
      "2019-04-16 11:06:18.952\n",
      "\n",
      "The amount (in hours) of observing time at APO on April 16 2019 is 8.11 h\n",
      "\n"
     ]
    }
   ],
   "source": [
    "#Astronomical twilight is when the Sun is 18 degrees below the horizon\n",
    "\n",
    "#Observations begin at twilight_evening_astronomical\n",
    "astro_set = APO.twilight_evening_astronomical(date, which='nearest')\n",
    "\n",
    "#Observations end at twilight_moring_astronomical\n",
    "astro_rise = APO.twilight_morning_astronomical(date, which='next')\n",
    "\n",
    "print(astro_set.iso)\n",
    "print(astro_rise.iso)\n",
    "print(\n",
    "\"\"\"\n",
    "The amount (in hours) of observing time at APO on April 16 2019 is {0:.2f}\n",
    "\"\"\".format((astro_rise-astro_set).to(u.hr))\n",
    ")"
   ]
  },
  {
   "cell_type": "code",
   "execution_count": 70,
   "metadata": {},
   "outputs": [],
   "source": [
    "M31=FixedTarget.from_name(\"m31\")"
   ]
  },
  {
   "cell_type": "code",
   "execution_count": 71,
   "metadata": {},
   "outputs": [
    {
     "data": {
      "text/plain": [
       "<SkyCoord (ICRS): (ra, dec) in deg\n",
       "    (10.68470833, 41.26875)>"
      ]
     },
     "execution_count": 71,
     "metadata": {},
     "output_type": "execute_result"
    }
   ],
   "source": [
    "M31.coord"
   ]
  },
  {
   "cell_type": "code",
   "execution_count": 72,
   "metadata": {},
   "outputs": [
    {
     "data": {
      "text/plain": [
       "<Time object: scale='utc' format='iso' value=2019-12-31 00:00:00.000>"
      ]
     },
     "execution_count": 72,
     "metadata": {},
     "output_type": "execute_result"
    }
   ],
   "source": [
    "date_2=Time(\"2019-12-31\")\n",
    "date_2"
   ]
  },
  {
   "cell_type": "code",
   "execution_count": 73,
   "metadata": {},
   "outputs": [
    {
     "name": "stdout",
     "output_type": "stream",
     "text": [
      "<SkyCoord (GCRS: obstime=2019-12-31 00:00:00.000, obsgeoloc=(0., 0., 0.) m, obsgeovel=(0., 0., 0.) m / s): (ra, dec, distance) in (deg, deg, km)\n",
      "    (337.42806413, -14.15183661, 401959.27256324)>\n"
     ]
    }
   ],
   "source": [
    "moon=get_body('moon', date_2)\n",
    "print(moon)"
   ]
  },
  {
   "cell_type": "code",
   "execution_count": 74,
   "metadata": {},
   "outputs": [],
   "source": [
    "moon_ratio=moon_illumination(date_2)"
   ]
  },
  {
   "cell_type": "code",
   "execution_count": 75,
   "metadata": {},
   "outputs": [
    {
     "data": {
      "text/plain": [
       "21.625726075476905"
      ]
     },
     "execution_count": 75,
     "metadata": {},
     "output_type": "execute_result"
    }
   ],
   "source": [
    "illumoonati=moon_ratio*(100)\n",
    "illumoonati"
   ]
  },
  {
   "cell_type": "code",
   "execution_count": 76,
   "metadata": {},
   "outputs": [
    {
     "name": "stdout",
     "output_type": "stream",
     "text": [
      "\n",
      "The moon will be in its waxing crescent phase and affect observations somewhat,\n",
      "it will be at 21.63% of it's full moon illumination\n",
      "\n"
     ]
    }
   ],
   "source": [
    "print(\n",
    "\"\"\"\n",
    "The moon will be in its waxing crescent phase and affect observations somewhat,\\nit will be at {0:.2f}% of it's full moon illumination\n",
    "\"\"\".format(illumoonati)\n",
    ")"
   ]
  },
  {
   "cell_type": "code",
   "execution_count": 77,
   "metadata": {},
   "outputs": [
    {
     "data": {
      "text/plain": [
       "True"
      ]
     },
     "execution_count": 77,
     "metadata": {},
     "output_type": "execute_result"
    }
   ],
   "source": [
    "APO.target_is_up(date_2, M31) "
   ]
  },
  {
   "cell_type": "code",
   "execution_count": 79,
   "metadata": {},
   "outputs": [
    {
     "name": "stdout",
     "output_type": "stream",
     "text": [
      "2019-12-31 01:34:32.621\n",
      "2019-12-31 12:37:26.788\n",
      "\n",
      "The amount (in hours) of observing time at APO on December 31 2019 is 11.05 h\n",
      "\n"
     ]
    },
    {
     "data": {
      "image/png": "[encoded data removed]",
      "text/plain": [
       "<Figure size 432x288 with 1 Axes>"
      ]
     },
     "metadata": {},
     "output_type": "display_data"
    }
   ],
   "source": [
    "astro_set_2=APO.twilight_evening_astronomical(date_2, which='nearest')\n",
    "astro_rise_2=APO.twilight_morning_astronomical(date_2, which='next')\n",
    "\n",
    "print(astro_set_2.iso)\n",
    "print(astro_rise_2.iso)\n",
    "print(\n",
    "\"\"\"\n",
    "The amount (in hours) of observing time at APO on December 31 2019 is {0:.2f}\n",
    "\"\"\".format((astro_rise_2-astro_set_2).to(u.hr))\n",
    ")\n",
    "\n",
    "start_time=astro_set_2\n",
    "end_time=astro_rise_2\n",
    "\n",
    "observing_range=[astro_set_2, astro_rise_2]\n",
    "\n",
    "time_grid=time_grid_from_range(observing_range)\n",
    "\n",
    "plt.style.use('')\n",
    "plot_airmass(M31, APO, time_grid);"
   ]
  },
  {
   "cell_type": "code",
   "execution_count": null,
   "metadata": {},
   "outputs": [],
   "source": []
  }
 ],
 "metadata": {
  "kernelspec": {
   "display_name": "Python 3",
   "language": "python",
   "name": "python3"
  },
  "language_info": {
   "codemirror_mode": {
    "name": "ipython",
    "version": 3
   },
   "file_extension": ".py",
   "mimetype": "text/x-python",
   "name": "python",
   "nbconvert_exporter": "python",
   "pygments_lexer": "ipython3",
   "version": "3.7.2"
  }
 },
 "nbformat": 4,
 "nbformat_minor": 2
}
