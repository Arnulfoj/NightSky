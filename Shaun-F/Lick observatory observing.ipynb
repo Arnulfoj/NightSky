{
 "cells": [
  {
   "cell_type": "code",
   "execution_count": 61,
   "metadata": {},
   "outputs": [],
   "source": [
    "import pandas as pd\n",
    "import astroplan\n",
    "import numpy as np\n",
    "import matplotlib.pyplot as plt\n",
    "from astroplan import FixedTarget, Observer, time_grid_from_range, moon_illumination, AtNightConstraint,observability_table, MoonSeparationConstraint, moon_phase_angle\n",
    "\n",
    "from astroplan.plots import plot_sky, plot_airmass\n",
    "from astropy.time import Time, TimeDelta\n",
    "from astropy.coordinates import SkyCoord\n",
    "import astropy.units as U\n",
    "import pytz"
   ]
  },
  {
   "cell_type": "code",
   "execution_count": 3,
   "metadata": {},
   "outputs": [],
   "source": [
    "data = pd.read_csv('QSO_data.csv', names=['specobjid', 'ra', 'dec', 'plate', 'mjd', 'fiberid'], header=1)\n",
    "my_timezone = pytz.timezone('US/Pacific')\n",
    "Lick = Observer.at_site('Lick observatory')\n",
    "Lick.timezone = my_timezone\n",
    "time_start_str = \"2019-04-01\"\n",
    "time_stop_str = \"2019-04-15\"\n",
    "obs_start = Time(time_start_str)\n",
    "obs_stop = Time(time_stop_str)"
   ]
  },
  {
   "cell_type": "code",
   "execution_count": 32,
   "metadata": {},
   "outputs": [],
   "source": [
    "mask = (data['ra']>8)&(data['ra']<16)&(data['dec']<45)&(data['dec']>-45)\n",
    "masked_data = data[mask]\n",
    "masked_data.index = range(len(masked_data))"
   ]
  },
  {
   "cell_type": "code",
   "execution_count": 33,
   "metadata": {},
   "outputs": [],
   "source": [
    "Sky_coord_objects = [SkyCoord(ra=masked_data['ra'][i]*U.hourangle, dec=masked_data['dec'][i]*U.deg) for i in masked_data.index]\n",
    "targets = [FixedTarget(Sky_coord_objects[i], name=masked_data['specobjid'][i]) for i in masked_data.index]\n",
    "midnights = [Lick.midnight(obs_start+TimeDelta(i*60*60*24, format='sec'), which='next').iso for i in range(15)]\n",
    "altazs = [[Lick.altaz(midnight, target) for midnight in midnights] for target in targets]"
   ]
  },
  {
   "cell_type": "code",
   "execution_count": 42,
   "metadata": {},
   "outputs": [
    {
     "name": "stdout",
     "output_type": "stream",
     "text": [
      "target name ever observable always observable fraction of time observable\n",
      "----------- --------------- ----------------- ---------------------------\n",
      "7.92659e+18            True             False         0.28011611030478956\n",
      "target name ever observable always observable fraction of time observable\n",
      "----------- --------------- ----------------- ---------------------------\n",
      "6.41992e+18            True             False          0.3497822931785196\n",
      "target name ever observable always observable fraction of time observable\n",
      "----------- --------------- ----------------- ---------------------------\n",
      "4.04215e+18            True             False          0.2960812772133527\n",
      "target name ever observable always observable fraction of time observable\n",
      "----------- --------------- ----------------- ---------------------------\n",
      "4.04223e+18            True             False          0.3265602322206096\n",
      "target name ever observable always observable fraction of time observable\n",
      "----------- --------------- ----------------- ---------------------------\n",
      "4.71788e+17            True             False         0.28011611030478956\n",
      "target name ever observable always observable fraction of time observable\n",
      "----------- --------------- ----------------- ---------------------------\n",
      "4.75696e+18            True             False          0.3497822931785196\n",
      "target name ever observable always observable fraction of time observable\n",
      "----------- --------------- ----------------- ---------------------------\n",
      "6.98522e+18            True             False         0.28011611030478956\n",
      "target name ever observable always observable fraction of time observable\n",
      "----------- --------------- ----------------- ---------------------------\n",
      "4.75821e+18            True             False          0.3497822931785196\n",
      "target name ever observable always observable fraction of time observable\n",
      "----------- --------------- ----------------- ---------------------------\n",
      "7.93097e+18            True             False          0.3497822931785196\n",
      "target name ever observable always observable fraction of time observable\n",
      "----------- --------------- ----------------- ---------------------------\n",
      "4.75492e+18            True             False          0.3265602322206096\n",
      "target name ever observable always observable fraction of time observable\n",
      "----------- --------------- ----------------- ---------------------------\n",
      " 6.9853e+18            True             False         0.31059506531204645\n",
      "target name ever observable always observable fraction of time observable\n",
      "----------- --------------- ----------------- ---------------------------\n",
      " 1.2194e+18            True             False          0.3497822931785196\n",
      "target name ever observable always observable fraction of time observable\n",
      "----------- --------------- ----------------- ---------------------------\n",
      "4.04225e+18            True             False          0.3367198838896952\n",
      "target name ever observable always observable fraction of time observable\n",
      "----------- --------------- ----------------- ---------------------------\n",
      " 4.2054e+18            True             False          0.3497822931785196\n",
      "target name ever observable always observable fraction of time observable\n",
      "----------- --------------- ----------------- ---------------------------\n",
      "4.75712e+18            True             False          0.3497822931785196\n",
      "target name ever observable always observable fraction of time observable\n",
      "----------- --------------- ----------------- ---------------------------\n",
      "4.04111e+18            True             False          0.3033381712626996\n",
      "target name ever observable always observable fraction of time observable\n",
      "----------- --------------- ----------------- ---------------------------\n",
      "4.03999e+18            True             False         0.28011611030478956\n",
      "target name ever observable always observable fraction of time observable\n",
      "----------- --------------- ----------------- ---------------------------\n",
      "4.75605e+18            True             False          0.3497822931785196\n",
      "target name ever observable always observable fraction of time observable\n",
      "----------- --------------- ----------------- ---------------------------\n",
      "5.76479e+18            True             False          0.3497822931785196\n",
      "target name ever observable always observable fraction of time observable\n",
      "----------- --------------- ----------------- ---------------------------\n",
      " 4.9226e+18            True             False          0.3497822931785196\n",
      "target name ever observable always observable fraction of time observable\n",
      "----------- --------------- ----------------- ---------------------------\n",
      "4.71785e+17            True             False         0.28011611030478956\n",
      "target name ever observable always observable fraction of time observable\n",
      "----------- --------------- ----------------- ---------------------------\n",
      "6.41989e+18            True             False          0.3497822931785196\n",
      "target name ever observable always observable fraction of time observable\n",
      "----------- --------------- ----------------- ---------------------------\n",
      "4.04213e+18            True             False         0.28011611030478956\n"
     ]
    }
   ],
   "source": [
    "window_range = [obs_start, obs_stop]\n",
    "window_time_grid = time_grid_from_range(window_range)\n",
    "\n",
    "observe_start = Lick.twilight_evening_astronomical(obs_start, which='nearest')\n",
    "observe_end=Lick.twilight_morning_astronomical(obs_stop, which='next')\n",
    "observe_range = [observe_start, observe_end]\n",
    "moon_illumination(observe_start)\n",
    "\n",
    "constraints = [AtNightConstraint.twilight_astronomical()]\n",
    "constraints.append(MoonSeparationConstraint(50*U.deg))\n",
    "\n",
    "\n",
    "observing_table = observability_table(constraints, Lick, targets, time_range = observe_range)\n",
    "for row in observing_table:\n",
    "        print(row)\n"
   ]
  },
  {
   "cell_type": "code",
   "execution_count": 102,
   "metadata": {},
   "outputs": [
    {
     "name": "stdout",
     "output_type": "stream",
     "text": [
      "The phase of the moon during each night of observing during our given observing window is: \n",
      "At midnight on 2019-05-01, the moon is at the phase 137.8215 deg\n",
      "At midnight on 2019-05-02, the moon is at the phase 148.9705 deg\n",
      "At midnight on 2019-05-03, the moon is at the phase 160.2399 deg\n",
      "At midnight on 2019-05-04, the moon is at the phase 171.2039 deg\n",
      "At midnight on 2019-05-05, the moon is at the phase 173.5740 deg\n",
      "At midnight on 2019-05-06, the moon is at the phase 162.6695 deg\n",
      "At midnight on 2019-05-07, the moon is at the phase 150.4816 deg\n",
      "At midnight on 2019-05-08, the moon is at the phase 137.9445 deg\n",
      "At midnight on 2019-05-09, the moon is at the phase 125.1920 deg\n",
      "At midnight on 2019-05-10, the moon is at the phase 112.2799 deg\n",
      "At midnight on 2019-05-11, the moon is at the phase 99.2435 deg\n",
      "At midnight on 2019-05-12, the moon is at the phase 86.1115 deg\n",
      "At midnight on 2019-05-13, the moon is at the phase 72.9128 deg\n",
      "At midnight on 2019-05-14, the moon is at the phase 59.6839 deg\n",
      "At midnight on 2019-05-15, the moon is at the phase 46.4744 deg\n"
     ]
    }
   ],
   "source": [
    "print(\"The phase of the moon during each night of observing during our given observing window is: \")\n",
    "for midnight in midnights:\n",
    "    print(\"At midnight on {0}, the moon is at the phase {1:0.4f}\".format(Time(midnight).datetime.date(),moon_phase_angle(Time(midnight)).to(U.deg)))"
   ]
  },
  {
   "cell_type": "markdown",
   "metadata": {},
   "source": [
    "# Month later observations"
   ]
  },
  {
   "cell_type": "code",
   "execution_count": 75,
   "metadata": {},
   "outputs": [],
   "source": [
    "data = pd.read_csv('QSO_data.csv', names=['specobjid', 'ra', 'dec', 'plate', 'mjd', 'fiberid'], header=1)\n",
    "my_timezone = pytz.timezone('US/Pacific')\n",
    "Lick = Observer.at_site('Lick observatory')\n",
    "Lick.timezone = my_timezone\n",
    "time_start_str = \"2019-05-01\"\n",
    "time_stop_str = \"2019-05-15\"\n",
    "obs_start = Time(time_start_str)\n",
    "obs_stop = Time(time_stop_str)"
   ]
  },
  {
   "cell_type": "code",
   "execution_count": 76,
   "metadata": {},
   "outputs": [],
   "source": [
    "mask = (data['ra']>8)&(data['ra']<16)&(data['dec']<45)&(data['dec']>-45)\n",
    "masked_data = data[mask]\n",
    "masked_data.index = range(len(masked_data))"
   ]
  },
  {
   "cell_type": "code",
   "execution_count": 77,
   "metadata": {},
   "outputs": [],
   "source": [
    "Sky_coord_objects = [SkyCoord(ra=masked_data['ra'][i]*U.hourangle, dec=masked_data['dec'][i]*U.deg) for i in masked_data.index]\n",
    "targets = [FixedTarget(Sky_coord_objects[i], name=masked_data['specobjid'][i]) for i in masked_data.index]\n",
    "midnights = [Lick.midnight(obs_start+TimeDelta(i*60*60*24, format='sec'), which='next').iso for i in range(15)]\n",
    "altazs = [[Lick.altaz(midnight, target) for midnight in midnights] for target in targets]"
   ]
  },
  {
   "cell_type": "code",
   "execution_count": 78,
   "metadata": {},
   "outputs": [
    {
     "name": "stdout",
     "output_type": "stream",
     "text": [
      "target name ever observable always observable fraction of time observable\n",
      "----------- --------------- ----------------- ---------------------------\n",
      "7.92659e+18            True             False          0.1793002915451895\n",
      "target name ever observable always observable fraction of time observable\n",
      "----------- --------------- ----------------- ---------------------------\n",
      "6.41992e+18            True             False         0.24927113702623907\n",
      "target name ever observable always observable fraction of time observable\n",
      "----------- --------------- ----------------- ---------------------------\n",
      "4.04215e+18            True             False          0.1924198250728863\n",
      "target name ever observable always observable fraction of time observable\n",
      "----------- --------------- ----------------- ---------------------------\n",
      "4.04223e+18            True             False         0.21137026239067055\n",
      "target name ever observable always observable fraction of time observable\n",
      "----------- --------------- ----------------- ---------------------------\n",
      "4.71788e+17            True             False         0.18075801749271136\n",
      "target name ever observable always observable fraction of time observable\n",
      "----------- --------------- ----------------- ---------------------------\n",
      "4.75696e+18            True             False          0.2696793002915452\n",
      "target name ever observable always observable fraction of time observable\n",
      "----------- --------------- ----------------- ---------------------------\n",
      "6.98522e+18            True             False          0.1793002915451895\n",
      "target name ever observable always observable fraction of time observable\n",
      "----------- --------------- ----------------- ---------------------------\n",
      "4.75821e+18            True             False          0.2755102040816326\n",
      "target name ever observable always observable fraction of time observable\n",
      "----------- --------------- ----------------- ---------------------------\n",
      "7.93097e+18            True             False         0.26822157434402333\n",
      "target name ever observable always observable fraction of time observable\n",
      "----------- --------------- ----------------- ---------------------------\n",
      "4.75492e+18            True             False         0.21137026239067055\n",
      "target name ever observable always observable fraction of time observable\n",
      "----------- --------------- ----------------- ---------------------------\n",
      " 6.9853e+18            True             False         0.21137026239067055\n",
      "target name ever observable always observable fraction of time observable\n",
      "----------- --------------- ----------------- ---------------------------\n",
      " 1.2194e+18            True             False         0.24927113702623907\n",
      "target name ever observable always observable fraction of time observable\n",
      "----------- --------------- ----------------- ---------------------------\n",
      "4.04225e+18            True             False          0.2303206997084548\n",
      "target name ever observable always observable fraction of time observable\n",
      "----------- --------------- ----------------- ---------------------------\n",
      " 4.2054e+18            True             False         0.26822157434402333\n",
      "target name ever observable always observable fraction of time observable\n",
      "----------- --------------- ----------------- ---------------------------\n",
      "4.75712e+18            True             False          0.2565597667638484\n",
      "target name ever observable always observable fraction of time observable\n",
      "----------- --------------- ----------------- ---------------------------\n",
      "4.04111e+18            True             False          0.1924198250728863\n",
      "target name ever observable always observable fraction of time observable\n",
      "----------- --------------- ----------------- ---------------------------\n",
      "4.03999e+18            True             False         0.18513119533527697\n",
      "target name ever observable always observable fraction of time observable\n",
      "----------- --------------- ----------------- ---------------------------\n",
      "4.75605e+18            True             False         0.24489795918367346\n",
      "target name ever observable always observable fraction of time observable\n",
      "----------- --------------- ----------------- ---------------------------\n",
      "5.76479e+18            True             False         0.28717201166180756\n",
      "target name ever observable always observable fraction of time observable\n",
      "----------- --------------- ----------------- ---------------------------\n",
      " 4.9226e+18            True             False         0.24927113702623907\n",
      "target name ever observable always observable fraction of time observable\n",
      "----------- --------------- ----------------- ---------------------------\n",
      "4.71785e+17            True             False         0.18075801749271136\n",
      "target name ever observable always observable fraction of time observable\n",
      "----------- --------------- ----------------- ---------------------------\n",
      "6.41989e+18            True             False         0.26822157434402333\n",
      "target name ever observable always observable fraction of time observable\n",
      "----------- --------------- ----------------- ---------------------------\n",
      "4.04213e+18            True             False          0.1836734693877551\n"
     ]
    }
   ],
   "source": [
    "window_range = [obs_start, obs_stop]\n",
    "window_time_grid = time_grid_from_range(window_range)\n",
    "\n",
    "observe_start = Lick.twilight_evening_astronomical(obs_start, which='nearest')\n",
    "observe_end=Lick.twilight_morning_astronomical(obs_stop, which='next')\n",
    "observe_range = [observe_start, observe_end]\n",
    "moon_illumination(observe_start)\n",
    "\n",
    "constraints = [AtNightConstraint.twilight_astronomical()]\n",
    "constraints.append(MoonSeparationConstraint(50*U.deg))\n",
    "\n",
    "\n",
    "observing_table = observability_table(constraints, Lick, targets, time_range = observe_range)\n",
    "for row in observing_table:\n",
    "        print(row)\n"
   ]
  },
  {
   "cell_type": "code",
   "execution_count": 101,
   "metadata": {},
   "outputs": [
    {
     "name": "stdout",
     "output_type": "stream",
     "text": [
      "The phase of the moon during each night of observing during our given observing window is: \n",
      "At midnight on 2019-05-01, the moon is at the phase 137.8215 deg\n",
      "At midnight on 2019-05-02, the moon is at the phase 148.9705 deg\n",
      "At midnight on 2019-05-03, the moon is at the phase 160.2399 deg\n",
      "At midnight on 2019-05-04, the moon is at the phase 171.2039 deg\n",
      "At midnight on 2019-05-05, the moon is at the phase 173.5740 deg\n",
      "At midnight on 2019-05-06, the moon is at the phase 162.6695 deg\n",
      "At midnight on 2019-05-07, the moon is at the phase 150.4816 deg\n",
      "At midnight on 2019-05-08, the moon is at the phase 137.9445 deg\n",
      "At midnight on 2019-05-09, the moon is at the phase 125.1920 deg\n",
      "At midnight on 2019-05-10, the moon is at the phase 112.2799 deg\n",
      "At midnight on 2019-05-11, the moon is at the phase 99.2435 deg\n",
      "At midnight on 2019-05-12, the moon is at the phase 86.1115 deg\n",
      "At midnight on 2019-05-13, the moon is at the phase 72.9128 deg\n",
      "At midnight on 2019-05-14, the moon is at the phase 59.6839 deg\n",
      "At midnight on 2019-05-15, the moon is at the phase 46.4744 deg\n"
     ]
    }
   ],
   "source": [
    "print(\"The phase of the moon during each night of observing during our given observing window is: \")\n",
    "for midnight in midnights:\n",
    "    print(\"At midnight on {0}, the moon is at the phase {1:0.4f}\".format(Time(midnight).datetime.date(),moon_phase_angle(Time(midnight)).to(U.deg)))"
   ]
  },
  {
   "cell_type": "code",
   "execution_count": 99,
   "metadata": {},
   "outputs": [
    {
     "data": {
      "text/plain": [
       "datetime.date(2019, 5, 1)"
      ]
     },
     "execution_count": 99,
     "metadata": {},
     "output_type": "execute_result"
    }
   ],
   "source": [
    "obs_start.datetime.date()"
   ]
  },
  {
   "cell_type": "code",
   "execution_count": null,
   "metadata": {},
   "outputs": [],
   "source": []
  }
 ],
 "metadata": {
  "kernelspec": {
   "display_name": "Python 3",
   "language": "python",
   "name": "python3"
  },
  "language_info": {
   "codemirror_mode": {
    "name": "ipython",
    "version": 3
   },
   "file_extension": ".py",
   "mimetype": "text/x-python",
   "name": "python",
   "nbconvert_exporter": "python",
   "pygments_lexer": "ipython3",
   "version": "3.6.7"
  }
 },
 "nbformat": 4,
 "nbformat_minor": 2
}
