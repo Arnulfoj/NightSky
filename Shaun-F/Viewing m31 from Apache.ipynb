{
 "cells": [
  {
   "cell_type": "code",
   "execution_count": 65,
   "metadata": {},
   "outputs": [],
   "source": [
    "import astroplan\n",
    "import numpy as np\n",
    "from astropy.time import Time\n",
    "from astropy import units as U\n",
    "from astroplan import Observer\n",
    "from astroplan import FixedTarget\n",
    "from astroplan.plots import plot_airmass\n",
    "import matplotlib.pyplot as plt\n",
    "from astroplan import download_IERS_A\n",
    "download_IERS_A()\n",
    "from astropy.coordinates import get_body, get_moon\n",
    "from astroplan import moon_illumination\n",
    "from astroplan.plots import plot_sky"
   ]
  },
  {
   "cell_type": "code",
   "execution_count": 3,
   "metadata": {},
   "outputs": [],
   "source": [
    "Apache = Observer.at_site('Apache point observatory')\n",
    "m31 = FixedTarget.from_name('m31')\n",
    "time1 = Time(\"2019-04-16\")\n",
    "time2 = Time(\"2019-12-31\")"
   ]
  },
  {
   "cell_type": "code",
   "execution_count": 93,
   "metadata": {},
   "outputs": [
    {
     "name": "stdout",
     "output_type": "stream",
     "text": [
      "Observing length at Apache point on April 16 is 8.110 h. Its best observed when the sun is opposite m31. This occurs in the fall\n",
      "Observing length at Apache point on Dec 31st is 11.048 h\n"
     ]
    }
   ],
   "source": [
    "obs_len = lambda time: Apache.twilight_morning_astronomical(time, which='next') - Apache.twilight_evening_astronomical(time, which='next')\n",
    "print(\"Observing length at Apache point on April 16 is {0:0.3f}. Its best observed when the sun is opposite m31. This occurs in the fall\".format(obs_len(time1).to(U.h)))\n",
    "print(\"Observing length at Apache point on Dec 31st is {0:0.3f}\".format(obs_len(time2).to(U.h)))"
   ]
  },
  {
   "cell_type": "code",
   "execution_count": 53,
   "metadata": {},
   "outputs": [
    {
     "name": "stdout",
     "output_type": "stream",
     "text": [
      "Altitude of moon on Dec 31 is 40.154 deg\n",
      "Azimuth of moon on Dec 31 is 200.201 deg\n",
      "Altitude of m31 on Dec 31 is 21.546\n",
      "Azimuth of m31 on Dec 31 is 306.232\n",
      "It appears the moon is ~100 degrees azimuthally from m31 so it should be pretty observable.\n"
     ]
    }
   ],
   "source": [
    "midnight_apache = Apache.midnight(time2, which='next')\n",
    "m31_altaz = Apache.altaz(midnight_apache, m31)\n",
    "#Get the moon phase\n",
    "print(\"Altitude of moon on Dec 31 is {0:0.3f}\".format(Apache.moon_altaz(time2).alt))\n",
    "print(\"Azimuth of moon on Dec 31 is {0:0.3f}\".format(Apache.moon_altaz(time2).az))\n",
    "print(\"Altitude of m31 on Dec 31 is {0:0.3f}\".format(m31_altaz.alt.deg))\n",
    "print(\"Azimuth of m31 on Dec 31 is {0:0.3f}\".format(m31_altaz.az.deg))\n",
    "print(\"It appears the moon is ~100 degrees azimuthally from m31 so it should be pretty observable.\")"
   ]
  },
  {
   "cell_type": "code",
   "execution_count": 89,
   "metadata": {},
   "outputs": [
    {
     "data": {
      "text/latex": [
       "$124.57507 \\; \\mathrm{{}^{\\circ}}$"
      ],
      "text/plain": [
       "<Quantity 124.575066 deg>"
      ]
     },
     "execution_count": 89,
     "metadata": {},
     "output_type": "execute_result"
    }
   ],
   "source": []
  },
  {
   "cell_type": "code",
   "execution_count": null,
   "metadata": {},
   "outputs": [],
   "source": []
  }
 ],
 "metadata": {
  "kernelspec": {
   "display_name": "Python 3",
   "language": "python",
   "name": "python3"
  },
  "language_info": {
   "codemirror_mode": {
    "name": "ipython",
    "version": 3
   },
   "file_extension": ".py",
   "mimetype": "text/x-python",
   "name": "python",
   "nbconvert_exporter": "python",
   "pygments_lexer": "ipython3",
   "version": "3.6.7"
  }
 },
 "nbformat": 4,
 "nbformat_minor": 2
}
