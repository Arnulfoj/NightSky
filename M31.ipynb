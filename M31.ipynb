{
 "cells": [
  {
   "cell_type": "code",
   "execution_count": 1,
   "metadata": {},
   "outputs": [
    {
     "name": "stdout",
     "output_type": "stream",
     "text": [
      "Downloading http://maia.usno.navy.mil/ser7/finals2000A.all [Done]\n"
     ]
    }
   ],
   "source": [
    "import numpy as np\n",
    "\n",
    "import astropy.units as u\n",
    "from astropy.time import Time\n",
    "from astropy.coordinates import SkyCoord\n",
    "import pytz\n",
    "import astropy\n",
    "\n",
    "from astroplan import Observer, FixedTarget\n",
    "from astroplan import download_IERS_A\n",
    "\n",
    "download_IERS_A()\n",
    "\n"
   ]
  },
  {
   "cell_type": "markdown",
   "metadata": {},
   "source": [
    "Finding timezone was tricky. Sources:\n",
    "http://tdc-www.harvard.edu/iraf/rvsao/bcvcorr/obsdb.html     (Found timezone)\n",
    "https://greenwichmeantime.com/time-zone/gmt-plus-7/          (Got GMT version)\n",
    "https://en.wikipedia.org/wiki/List_of_tz_database_time_zones (Found location that much timezone)\n"
   ]
  },
  {
   "cell_type": "markdown",
   "metadata": {},
   "source": [
    "## Location and Dates"
   ]
  },
  {
   "cell_type": "code",
   "execution_count": 2,
   "metadata": {},
   "outputs": [
    {
     "data": {
      "text/plain": [
       "<Observer: name='Apache Point Observatory',\n",
       "    location (lon, lat, el)=(-105.82000000000002 deg, 32.78000000000001 deg, 2797.9999999996007 m),\n",
       "    timezone=<UTC>>"
      ]
     },
     "execution_count": 2,
     "metadata": {},
     "output_type": "execute_result"
    }
   ],
   "source": [
    "# The observer\n",
    "observatory1 = Observer(longitude = 105.8197 * u.deg,\n",
    "                    latitude = 32.7802 * u.deg,\n",
    "                    elevation = 63.4 * u.m,\n",
    "                    timezone = 'Antarctica/Davis',\n",
    "                    name = \"Apache Point Observatory\"\n",
    "                    )\n",
    "observatory = Observer.at_site('Apache Point Observatory')\n",
    "#What I will be observing\n",
    "my_target = FixedTarget.from_name(\"M31\")\n",
    "\n",
    "#Observing times\n",
    "date1 = Time(\"2019-04-16\")\n",
    "date2 = Time(\"2019-12-31\")\n",
    "observatory"
   ]
  },
  {
   "cell_type": "markdown",
   "metadata": {},
   "source": [
    "## How long you can observe it for on the 2 dates"
   ]
  },
  {
   "cell_type": "code",
   "execution_count": 3,
   "metadata": {},
   "outputs": [
    {
     "name": "stdout",
     "output_type": "stream",
     "text": [
      "You can observe M31 for 11.0 h at APO on the December 31st, 2019.\n"
     ]
    }
   ],
   "source": [
    "date = date2\n",
    "# Copied from Astro300 lecture\n",
    "astro_set = observatory.twilight_evening_astronomical(date, which='next')\n",
    "astro_rise = observatory.twilight_morning_astronomical(date, which='next')\n",
    "midnight_mro = observatory.midnight(date1, which='next')\n",
    "observing_length = (astro_rise - astro_set).to(u.h)\n",
    "\n",
    "print(\"You can observe M31 for {0:.1f} at APO on the December 31st, 2019.\".format(observing_length))"
   ]
  },
  {
   "cell_type": "code",
   "execution_count": 4,
   "metadata": {},
   "outputs": [
    {
     "name": "stdout",
     "output_type": "stream",
     "text": [
      "You can observe M31 for 8.1 h at APO on the April 4th, 2019.\n"
     ]
    }
   ],
   "source": [
    "date = date1\n",
    "# Copied from Astro300 lecture\n",
    "astro_set = observatory.twilight_evening_astronomical(date, which='next')\n",
    "astro_rise = observatory.twilight_morning_astronomical(date, which='next')\n",
    "midnight_mro = observatory.midnight(date1, which='next')\n",
    "observing_length = (astro_rise - astro_set).to(u.h)\n",
    "\n",
    "print(\"You can observe M31 for {0:.1f} at APO on the April 4th, 2019.\".format(observing_length))"
   ]
  },
  {
   "cell_type": "markdown",
   "metadata": {},
   "source": [
    "## Best season to view it\n",
    "Strategy: Check viewing coniditions each month and determine best"
   ]
  },
  {
   "cell_type": "code",
   "execution_count": 5,
   "metadata": {},
   "outputs": [],
   "source": [
    "# Getting a list of dates beginning with the first of each month\n",
    "dates = list()\n",
    "for i in range(1,13):\n",
    "    #Adds 0 if necessary\n",
    "    appender = \"\"\n",
    "    if (i < 10):\n",
    "        appender = \"0\"\n",
    "    \n",
    "    date = \"2019-\" + appender + str(i) + \"-01\"\n",
    "    item = Time(date)\n",
    "    dates.append(item)"
   ]
  },
  {
   "cell_type": "markdown",
   "metadata": {},
   "source": [
    "Code Taken from Astro 300\n",
    "\n",
    "my_target = FixedTarget.from_name(\"ngc2403\")\n",
    "\n",
    "mro.target_is_up(midnight_mro, my_target)\n",
    "\n",
    "altaz_my_target = mro.altaz(midnight_mro, my_target)\n",
    "\n",
    "altaz_my_target.alt, altaz_my_target.az\n",
    "\n",
    "altaz_my_target.secz"
   ]
  },
  {
   "cell_type": "code",
   "execution_count": 6,
   "metadata": {},
   "outputs": [],
   "source": [
    "visible = observatory.target_is_up(dates,my_target)"
   ]
  },
  {
   "cell_type": "code",
   "execution_count": 7,
   "metadata": {},
   "outputs": [],
   "source": [
    "# If it is visible I'll find the airmass of it each month\n",
    "months = list()\n",
    "vis_for_months = list()\n",
    "for i in range(len(visible)):\n",
    "    if visible[i]:\n",
    "        altaz_my_target = observatory.altaz(dates[i], my_target)\n",
    "        visibility = altaz_my_target.secz\n",
    "        if visibility < 2:\n",
    "            months.append(i)\n",
    "            vis_for_months.append(visibility)"
   ]
  },
  {
   "cell_type": "code",
   "execution_count": 12,
   "metadata": {},
   "outputs": [
    {
     "data": {
      "text/plain": [
       "[0, 1, 2, 3, 10, 11]"
      ]
     },
     "execution_count": 12,
     "metadata": {},
     "output_type": "execute_result"
    }
   ],
   "source": [
    "vis_for_months\n",
    "months"
   ]
  },
  {
   "cell_type": "code",
   "execution_count": null,
   "metadata": {},
   "outputs": [],
   "source": []
  },
  {
   "cell_type": "code",
   "execution_count": null,
   "metadata": {},
   "outputs": [],
   "source": []
  },
  {
   "cell_type": "code",
   "execution_count": null,
   "metadata": {},
   "outputs": [],
   "source": []
  },
  {
   "cell_type": "code",
   "execution_count": null,
   "metadata": {},
   "outputs": [],
   "source": []
  }
 ],
 "metadata": {
  "kernelspec": {
   "display_name": "Python 3",
   "language": "python",
   "name": "python3"
  },
  "language_info": {
   "codemirror_mode": {
    "name": "ipython",
    "version": 3
   },
   "file_extension": ".py",
   "mimetype": "text/x-python",
   "name": "python",
   "nbconvert_exporter": "python",
   "pygments_lexer": "ipython3",
   "version": "3.6.8"
  }
 },
 "nbformat": 4,
 "nbformat_minor": 2
}
