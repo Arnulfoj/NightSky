{
 "cells": [
  {
   "cell_type": "code",
   "execution_count": 2,
   "metadata": {},
   "outputs": [],
   "source": [
    "%matplotlib inline\n",
    "import matplotlib.pyplot as plt\n",
    "\n",
    "import numpy as np\n",
    "import pandas as pd\n",
    "\n",
    "import astropy.units as u\n",
    "from astropy.time import Time\n",
    "from astropy.coordinates import SkyCoord\n",
    "import pytz\n",
    "\n",
    "import warnings\n",
    "warnings.filterwarnings('ignore', category=Warning)\n",
    "\n",
    "from astroplan.plots import plot_sky, plot_airmass\n",
    "from astroplan import Observer, FixedTarget, time_grid_from_range, observability_table, moon_illumination\n",
    "from astroplan import AirmassConstraint, MoonSeparationConstraint, AtNightConstraint"
   ]
  },
  {
   "cell_type": "code",
   "execution_count": 3,
   "metadata": {},
   "outputs": [],
   "source": [
    "#Exo-planets list\n",
    "\n",
    "planets = pd.read_csv('~/Downloads/planettable.csv')\n",
    "\n",
    "#Limiting exoplanets\n",
    "planet50 = planets[0:50]\n",
    "planet_values=planet50.values\n",
    "\n",
    "targets = [FixedTarget(coord=SkyCoord(ra = RA*u.deg, dec = DEC*u.deg), name=Name)\n",
    "           for Name, RA, DEC in planet_values]\n"
   ]
  },
  {
   "cell_type": "code",
   "execution_count": 4,
   "metadata": {},
   "outputs": [],
   "source": [
    "#Location of Keck\n",
    "keck = Observer.at_site('Keck')"
   ]
  },
  {
   "cell_type": "code",
   "execution_count": 13,
   "metadata": {},
   "outputs": [],
   "source": [
    "#Window of Obersvation\n",
    "window_start = Time(\"2019-2-15 12:00:00\")\n",
    "window_end = Time(\"2019-3-2 23:59:59\")\n",
    "window_range = [window_start,window_end]\n",
    "\n",
    "times=(\"2019-02-16 00:00:00\",\"2019-02-17 00:00:00\",\"2019-02-18 00:00:00\",\"2019-02-19 00:00:00\",\n",
    "\"2019-02-20 00:00:00\",\"2019-02-21 00:00:00\",\"2019-02-22 00:00:00\",\"2019-02-23 00:00:00\",\n",
    "\"2019-02-24 00:00:00\",\"2019-02-25 00:00:00\",\"2019-02-26 00:00:00\",\"2019-02-27 00:00:00\",\n",
    "\"2019-02-28 00:00:00\",\"2019-03-01 00:00:00\",\"2019-03-02 00:00:00\")\n",
    "\n",
    "t=Time(times)\n",
    "\n",
    "t1 = keck.twilight_evening_astronomical(t, which='nearest')\n",
    "t2 = keck.twilight_morning_astronomical(t, which='next')\n",
    "\n",
    "obslength1 = (t2 - t1).to(u.h)\n",
    "obslength=obslength1.sum()"
   ]
  },
  {
   "cell_type": "code",
   "execution_count": 15,
   "metadata": {},
   "outputs": [
    {
     "name": "stdout",
     "output_type": "stream",
     "text": [
      "You can observe 11 Com b for 22.36 h\n",
      "You can observe 14 Her b for 16.77 h\n",
      "You can observe 1RXS J160929.1-210524 b for 2.80 h\n",
      "You can observe 24 Boo b for 26.55 h\n",
      "You can observe 24 Sex b for 21.56 h\n",
      "You can observe 24 Sex c for 21.56 h\n",
      "You can observe 2MASS J04414489+2301513 b for 13.18 h\n",
      "You can observe 30 Ari B b for 3.19 h\n",
      "You can observe 4 UMa b for 17.37 h\n",
      "You can observe 47 UMa b for 26.15 h\n",
      "You can observe 47 UMa c for 26.15 h\n",
      "You can observe 47 UMa d for 26.15 h\n",
      "You can observe 51 Eri b for 10.78 h\n",
      "You can observe 55 Cnc b for 24.36 h\n",
      "You can observe 55 Cnc c for 24.36 h\n",
      "You can observe 55 Cnc d for 24.36 h\n",
      "You can observe 55 Cnc e for 24.36 h\n",
      "You can observe 55 Cnc f for 24.36 h\n",
      "You can observe 6 Lyn b for 17.17 h\n",
      "You can observe 61 Vir b for 14.18 h\n",
      "You can observe 61 Vir c for 14.18 h\n",
      "You can observe 61 Vir d for 14.18 h\n",
      "You can observe 7 CMa b for 14.77 h\n",
      "You can observe 70 Vir b for 18.37 h\n",
      "You can observe 75 Cet b for 0.60 h\n",
      "You can observe 81 Cet b for 0.60 h\n",
      "You can observe BD+03 2562 b for 21.16 h\n",
      "You can observe BD+15 2375 b for 24.56 h\n",
      "You can observe BD+15 2940 b for 9.58 h\n",
      "You can observe BD+20 2457 b for 22.76 h\n",
      "You can observe BD+20 2457 c for 22.76 h\n",
      "You can observe BD+20 594 b for 7.99 h\n",
      "You can observe BD+48 738 b for 2.00 h\n"
     ]
    },
    {
     "data": {
      "text/html": [
       "&lt;Table length=33&gt;\n",
       "<table id=\"table140216823025616\" class=\"table-striped table-bordered table-condensed\">\n",
       "<thead><tr><th>target name</th><th>ever observable</th><th>always observable</th><th>fraction of time observable</th></tr></thead>\n",
       "<thead><tr><th>str27</th><th>bool</th><th>bool</th><th>float64</th></tr></thead>\n",
       "<tr><td>11 Com b</td><td>True</td><td>False</td><td>0.15053763440860216</td></tr>\n",
       "<tr><td>14 Her b</td><td>True</td><td>False</td><td>0.11290322580645161</td></tr>\n",
       "<tr><td>1RXS J160929.1-210524 b</td><td>True</td><td>False</td><td>0.01881720430107527</td></tr>\n",
       "<tr><td>24 Boo b</td><td>True</td><td>False</td><td>0.17876344086021506</td></tr>\n",
       "<tr><td>24 Sex b</td><td>True</td><td>False</td><td>0.14516129032258066</td></tr>\n",
       "<tr><td>24 Sex c</td><td>True</td><td>False</td><td>0.14516129032258066</td></tr>\n",
       "<tr><td>2MASS J04414489+2301513 b</td><td>True</td><td>False</td><td>0.08870967741935484</td></tr>\n",
       "<tr><td>30 Ari B b</td><td>True</td><td>False</td><td>0.021505376344086023</td></tr>\n",
       "<tr><td>4 UMa b</td><td>True</td><td>False</td><td>0.11693548387096774</td></tr>\n",
       "<tr><td>47 UMa b</td><td>True</td><td>False</td><td>0.1760752688172043</td></tr>\n",
       "<tr><td>...</td><td>...</td><td>...</td><td>...</td></tr>\n",
       "<tr><td>70 Vir b</td><td>True</td><td>False</td><td>0.12365591397849462</td></tr>\n",
       "<tr><td>75 Cet b</td><td>True</td><td>False</td><td>0.004032258064516129</td></tr>\n",
       "<tr><td>81 Cet b</td><td>True</td><td>False</td><td>0.004032258064516129</td></tr>\n",
       "<tr><td>BD+03 2562 b</td><td>True</td><td>False</td><td>0.1424731182795699</td></tr>\n",
       "<tr><td>BD+15 2375 b</td><td>True</td><td>False</td><td>0.16532258064516128</td></tr>\n",
       "<tr><td>BD+15 2940 b</td><td>True</td><td>False</td><td>0.06451612903225806</td></tr>\n",
       "<tr><td>BD+20 2457 b</td><td>True</td><td>False</td><td>0.1532258064516129</td></tr>\n",
       "<tr><td>BD+20 2457 c</td><td>True</td><td>False</td><td>0.1532258064516129</td></tr>\n",
       "<tr><td>BD+20 594 b</td><td>True</td><td>False</td><td>0.053763440860215055</td></tr>\n",
       "<tr><td>BD+48 738 b</td><td>True</td><td>False</td><td>0.013440860215053764</td></tr>\n",
       "</table>"
      ],
      "text/plain": [
       "<Table length=33>\n",
       "       target name        ever observable ... fraction of time observable\n",
       "          str27                 bool      ...           float64          \n",
       "------------------------- --------------- ... ---------------------------\n",
       "                 11 Com b            True ...         0.15053763440860216\n",
       "                 14 Her b            True ...         0.11290322580645161\n",
       "  1RXS J160929.1-210524 b            True ...         0.01881720430107527\n",
       "                 24 Boo b            True ...         0.17876344086021506\n",
       "                 24 Sex b            True ...         0.14516129032258066\n",
       "                 24 Sex c            True ...         0.14516129032258066\n",
       "2MASS J04414489+2301513 b            True ...         0.08870967741935484\n",
       "               30 Ari B b            True ...        0.021505376344086023\n",
       "                  4 UMa b            True ...         0.11693548387096774\n",
       "                 47 UMa b            True ...          0.1760752688172043\n",
       "                      ...             ... ...                         ...\n",
       "                 70 Vir b            True ...         0.12365591397849462\n",
       "                 75 Cet b            True ...        0.004032258064516129\n",
       "                 81 Cet b            True ...        0.004032258064516129\n",
       "             BD+03 2562 b            True ...          0.1424731182795699\n",
       "             BD+15 2375 b            True ...         0.16532258064516128\n",
       "             BD+15 2940 b            True ...         0.06451612903225806\n",
       "             BD+20 2457 b            True ...          0.1532258064516129\n",
       "             BD+20 2457 c            True ...          0.1532258064516129\n",
       "              BD+20 594 b            True ...        0.053763440860215055\n",
       "              BD+48 738 b            True ...        0.013440860215053764"
      ]
     },
     "execution_count": 15,
     "metadata": {},
     "output_type": "execute_result"
    }
   ],
   "source": [
    "#Constraints for airmass, angle for moon separation, and at night\n",
    "constraints = [AirmassConstraint(1.5), MoonSeparationConstraint(50*u.deg),AtNightConstraint.twilight_astronomical()]\n",
    "\n",
    "#Creating a table to see what objects can be seen or not\n",
    "observing_table = observability_table(constraints, keck, targets, time_range=window_range)\n",
    "\n",
    "\n",
    "#Checking how many hours each object can be observed during our window\n",
    "for i, my_object in enumerate(targets):\n",
    "\n",
    "    if observing_table['ever observable'][i]:\n",
    "        name = observing_table['target name'][i]\n",
    "        obj_frac = observing_table['fraction of time observable'][i]\n",
    "        obj_time = obj_frac * obslength\n",
    "        output = \"You can observe {0:s} for {1:.2f}\".format(name, obj_time.to(u.h))\n",
    "        print(output)\n",
    "\n",
    "#Creating a table of ever observable objects, removing any objects can't be observed\n",
    "mask1 = observing_table['ever observable'] == True\n",
    "ever_observable = observing_table[mask1]\n",
    "ever_observable"
   ]
  },
  {
   "cell_type": "code",
   "execution_count": null,
   "metadata": {},
   "outputs": [],
   "source": []
  }
 ],
 "metadata": {
  "kernelspec": {
   "display_name": "Python 3",
   "language": "python",
   "name": "python3"
  },
  "language_info": {
   "codemirror_mode": {
    "name": "ipython",
    "version": 3
   },
   "file_extension": ".py",
   "mimetype": "text/x-python",
   "name": "python",
   "nbconvert_exporter": "python",
   "pygments_lexer": "ipython3",
   "version": "3.6.8"
  }
 },
 "nbformat": 4,
 "nbformat_minor": 2
}
