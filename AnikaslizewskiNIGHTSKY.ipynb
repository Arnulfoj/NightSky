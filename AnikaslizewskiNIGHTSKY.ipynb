{
 "cells": [
  {
   "cell_type": "code",
   "execution_count": 133,
   "metadata": {},
   "outputs": [],
   "source": [
    "import numpy as np\n",
    "import pandas as pd\n",
    "import astropy.units as u\n",
    "import matplotlib.pyplot as plt\n",
    "%matplotlib inline\n",
    "\n",
    "from astropy.time import Time\n",
    "from astropy.coordinates import SkyCoord\n",
    "import pytz\n",
    "from astroplan import Observer, FixedTarget\n",
    "from astroplan import download_IERS_A\n",
    "\n",
    "from astropy.coordinates import EarthLocation\n",
    "from astropy.time import Time\n",
    "from astroplan import time_grid_from_range\n",
    "\n",
    "\n",
    "from astroplan import time_grid_from_range\n",
    "from astroplan.plots import plot_sky, plot_airmass\n",
    "from astropy.coordinates import get_sun, get_body, get_moon\n",
    "from astroplan import moon_illumination\n",
    "\n",
    "from astroplan import is_observable, is_always_observable, months_observable\n",
    "from astroplan import AltitudeConstraint, AirmassConstraint, AtNightConstraint\n",
    "from astroplan import observability_table\n",
    "from astroplan import MoonSeparationConstraint"
   ]
  },
  {
   "cell_type": "code",
   "execution_count": 142,
   "metadata": {},
   "outputs": [],
   "source": [
    "#PARTNER PROJECT W LEXIE: OBJECTS: EXOPLANETS, OBS: KECK, TIME: FEB 15-MAR 16 \n",
    "#Source of data: https://exoplanetarchive.ipac.caltech.edu/cgi-bin/TblView/nph-tblView?app=ExoTbls&config=planets"
   ]
  },
  {
   "cell_type": "code",
   "execution_count": 143,
   "metadata": {},
   "outputs": [],
   "source": [
    "#Setting observer to site at Keck (observer package with astropy)\n",
    "keck=Observer.at_site('Keck') "
   ]
  },
  {
   "cell_type": "code",
   "execution_count": 84,
   "metadata": {},
   "outputs": [],
   "source": [
    "#Reading in table\n",
    "planetsall=pd.read_csv('~/Downloads/planetstable.csv')\n",
    "planets=planetsall[0:50]"
   ]
  },
  {
   "cell_type": "code",
   "execution_count": 94,
   "metadata": {},
   "outputs": [],
   "source": [
    "#Starting and ending date, Feb 15 - March 2, 2019, and making window\n",
    "window_start=Time('2019-02-15 00:00:00')\n",
    "window_end=Time('2019-03-02 00:00:00')\n",
    "window=[window_start,window_end]\n",
    "window_time_grid = time_grid_from_range(window)"
   ]
  },
  {
   "cell_type": "code",
   "execution_count": 96,
   "metadata": {},
   "outputs": [
    {
     "name": "stdout",
     "output_type": "stream",
     "text": [
      "The total observing time in this window is 148.54358139261603 h\n"
     ]
    }
   ],
   "source": [
    "#Finding the observing time for each day to then sum to get total!!!\n",
    "times=(\"2019-02-16 00:00:00\",\"2019-02-17 00:00:00\",\"2019-02-18 00:00:00\",\"2019-02-19 00:00:00\",\n",
    "\"2019-02-20 00:00:00\",\"2019-02-21 00:00:00\",\"2019-02-22 00:00:00\",\"2019-02-23 00:00:00\",\n",
    "\"2019-02-24 00:00:00\",\"2019-02-25 00:00:00\",\"2019-02-26 00:00:00\",\"2019-02-27 00:00:00\",\n",
    "\"2019-02-28 00:00:00\",\"2019-03-01 00:00:00\",\"2019-03-02 00:00:00\")\n",
    "t=Time(times)\n",
    "t1 = keck.twilight_evening_astronomical(t, which='nearest')\n",
    "t2 = keck.twilight_morning_astronomical(t, which='next')\n",
    "obslength1 = (t2 - t1).to(u.h)\n",
    "obslength=obslength1.sum()\n",
    "print('The total observing time in this window is',obslength)"
   ]
  },
  {
   "cell_type": "code",
   "execution_count": 13,
   "metadata": {},
   "outputs": [],
   "source": [
    "#RA and Dec in table, values\n",
    "RA=planets['ra'].values\n",
    "DEC=planets['dec'].values\n",
    "Name=planets['pl_name'].values\n",
    "planets_values=planets.values"
   ]
  },
  {
   "cell_type": "code",
   "execution_count": 14,
   "metadata": {},
   "outputs": [],
   "source": [
    "#Setting targets with for-loop, FIXED targets since not in SS and can approx as fixed  \n",
    "#Both ra, dec were in degrees in the table\n",
    "targets = [FixedTarget(coord=SkyCoord(ra = RA*u.deg, dec = DEC*u.deg), name=Name)\n",
    "           for Name, RA, DEC in planets_values]"
   ]
  },
  {
   "cell_type": "code",
   "execution_count": 144,
   "metadata": {},
   "outputs": [],
   "source": [
    "#Adding constraints for my observing table\n",
    "constraints = [AirmassConstraint(1.5)]\n",
    "constraints.append(MoonSeparationConstraint(50*u.deg))\n",
    "constraints.append(AtNightConstraint.twilight_astronomical())"
   ]
  },
  {
   "cell_type": "code",
   "execution_count": 145,
   "metadata": {},
   "outputs": [],
   "source": [
    "observing_table1 = observability_table(constraints, keck, targets, time_range=window)"
   ]
  },
  {
   "cell_type": "code",
   "execution_count": 154,
   "metadata": {},
   "outputs": [
    {
     "data": {
      "text/html": [
       "<i>Table length=33</i>\n",
       "<table id=\"table34977162856\" class=\"table-striped table-bordered table-condensed\">\n",
       "<thead><tr><th>target name</th><th>ever observable</th><th>always observable</th><th>fraction of time observable</th></tr></thead>\n",
       "<thead><tr><th>str27</th><th>bool</th><th>bool</th><th>float64</th></tr></thead>\n",
       "<tr><td>11 Com b</td><td>True</td><td>False</td><td>0.14305555555555555</td></tr>\n",
       "<tr><td>14 Her b</td><td>True</td><td>False</td><td>0.10972222222222222</td></tr>\n",
       "<tr><td>1RXS J160929.1-210524 b</td><td>True</td><td>False</td><td>0.016666666666666666</td></tr>\n",
       "<tr><td>24 Boo b</td><td>True</td><td>False</td><td>0.17222222222222222</td></tr>\n",
       "<tr><td>24 Sex b</td><td>True</td><td>False</td><td>0.14305555555555555</td></tr>\n",
       "<tr><td>24 Sex c</td><td>True</td><td>False</td><td>0.14305555555555555</td></tr>\n",
       "<tr><td>2MASS J04414489+2301513 b</td><td>True</td><td>False</td><td>0.08611111111111111</td></tr>\n",
       "<tr><td>30 Ari B b</td><td>True</td><td>False</td><td>0.022222222222222223</td></tr>\n",
       "<tr><td>4 UMa b</td><td>True</td><td>False</td><td>0.12083333333333333</td></tr>\n",
       "<tr><td>47 UMa b</td><td>True</td><td>False</td><td>0.17222222222222222</td></tr>\n",
       "<tr><td>...</td><td>...</td><td>...</td><td>...</td></tr>\n",
       "<tr><td>70 Vir b</td><td>True</td><td>False</td><td>0.11527777777777778</td></tr>\n",
       "<tr><td>75 Cet b</td><td>True</td><td>False</td><td>0.005555555555555556</td></tr>\n",
       "<tr><td>81 Cet b</td><td>True</td><td>False</td><td>0.005555555555555556</td></tr>\n",
       "<tr><td>BD+03 2562 b</td><td>True</td><td>False</td><td>0.1361111111111111</td></tr>\n",
       "<tr><td>BD+15 2375 b</td><td>True</td><td>False</td><td>0.1597222222222222</td></tr>\n",
       "<tr><td>BD+15 2940 b</td><td>True</td><td>False</td><td>0.058333333333333334</td></tr>\n",
       "<tr><td>BD+20 2457 b</td><td>True</td><td>False</td><td>0.15138888888888888</td></tr>\n",
       "<tr><td>BD+20 2457 c</td><td>True</td><td>False</td><td>0.15138888888888888</td></tr>\n",
       "<tr><td>BD+20 594 b</td><td>True</td><td>False</td><td>0.05277777777777778</td></tr>\n",
       "<tr><td>BD+48 738 b</td><td>True</td><td>False</td><td>0.013888888888888888</td></tr>\n",
       "</table>"
      ],
      "text/plain": [
       "<Table length=33>\n",
       "       target name        ever observable ... fraction of time observable\n",
       "          str27                 bool      ...           float64          \n",
       "------------------------- --------------- ... ---------------------------\n",
       "                 11 Com b            True ...         0.14305555555555555\n",
       "                 14 Her b            True ...         0.10972222222222222\n",
       "  1RXS J160929.1-210524 b            True ...        0.016666666666666666\n",
       "                 24 Boo b            True ...         0.17222222222222222\n",
       "                 24 Sex b            True ...         0.14305555555555555\n",
       "                 24 Sex c            True ...         0.14305555555555555\n",
       "2MASS J04414489+2301513 b            True ...         0.08611111111111111\n",
       "               30 Ari B b            True ...        0.022222222222222223\n",
       "                  4 UMa b            True ...         0.12083333333333333\n",
       "                 47 UMa b            True ...         0.17222222222222222\n",
       "                      ...             ... ...                         ...\n",
       "                 70 Vir b            True ...         0.11527777777777778\n",
       "                 75 Cet b            True ...        0.005555555555555556\n",
       "                 81 Cet b            True ...        0.005555555555555556\n",
       "             BD+03 2562 b            True ...          0.1361111111111111\n",
       "             BD+15 2375 b            True ...          0.1597222222222222\n",
       "             BD+15 2940 b            True ...        0.058333333333333334\n",
       "             BD+20 2457 b            True ...         0.15138888888888888\n",
       "             BD+20 2457 c            True ...         0.15138888888888888\n",
       "              BD+20 594 b            True ...         0.05277777777777778\n",
       "              BD+48 738 b            True ...        0.013888888888888888"
      ]
     },
     "execution_count": 154,
     "metadata": {},
     "output_type": "execute_result"
    }
   ],
   "source": [
    "mask1 = observing_table1['ever observable'] == True\n",
    "mask2 = observing_table1['fraction of time observable'] > 0.1\n",
    "observing_table=observing_table1[mask1]\n",
    "observing_table\n",
    "#Observing table for visible planets in our original window"
   ]
  },
  {
   "cell_type": "code",
   "execution_count": 147,
   "metadata": {},
   "outputs": [
    {
     "name": "stdout",
     "output_type": "stream",
     "text": [
      "You can observe 11 Com b for 52.92 h\n",
      "You can observe 14 Her b for 40.59 h\n",
      "You can observe 1RXS J160929.1-210524 b for 6.17 h\n",
      "You can observe 24 Boo b for 63.72 h\n",
      "You can observe 24 Sex b for 52.92 h\n",
      "You can observe 24 Sex c for 52.92 h\n",
      "You can observe 2MASS J04414489+2301513 b for 31.86 h\n",
      "You can observe 30 Ari B b for 8.22 h\n",
      "You can observe 4 UMa b for 44.70 h\n",
      "You can observe 47 UMa b for 63.72 h\n",
      "You can observe 47 UMa c for 63.72 h\n",
      "You can observe 47 UMa d for 63.72 h\n",
      "You can observe 51 Eri b for 26.21 h\n",
      "You can observe 55 Cnc b for 56.01 h\n",
      "You can observe 55 Cnc c for 56.01 h\n",
      "You can observe 55 Cnc d for 56.01 h\n",
      "You can observe 55 Cnc e for 56.01 h\n",
      "You can observe 55 Cnc f for 56.01 h\n",
      "You can observe 6 Lyn b for 41.11 h\n",
      "You can observe 61 Vir b for 32.37 h\n",
      "You can observe 61 Vir c for 32.37 h\n",
      "You can observe 61 Vir d for 32.37 h\n",
      "You can observe 7 CMa b for 35.45 h\n",
      "You can observe 70 Vir b for 42.65 h\n",
      "You can observe 75 Cet b for 2.06 h\n",
      "You can observe 81 Cet b for 2.06 h\n",
      "You can observe BD+03 2562 b for 50.36 h\n",
      "You can observe BD+15 2375 b for 59.09 h\n",
      "You can observe BD+15 2940 b for 21.58 h\n",
      "You can observe BD+20 2457 b for 56.01 h\n",
      "You can observe BD+20 2457 c for 56.01 h\n",
      "You can observe BD+20 594 b for 19.53 h\n",
      "You can observe BD+48 738 b for 5.14 h\n"
     ]
    }
   ],
   "source": [
    "for i, my_object in enumerate(targets):\n",
    "\n",
    "    if observing_table1['ever observable'][i]:\n",
    "        name = observing_table1['target name'][i]\n",
    "        obj_frac = observing_table1['fraction of time observable'][i]\n",
    "        obj_time = obj_frac * observing_length3\n",
    "        output = \"You can observe {0:s} for {1:.2f}\".format(name, obj_time.to(u.h))\n",
    "        print(output)\n",
    "#Observing length for each object in our original window"
   ]
  },
  {
   "cell_type": "code",
   "execution_count": 148,
   "metadata": {},
   "outputs": [
    {
     "data": {
      "text/plain": [
       "array([0.83529795, 0.91333649, 0.96892034, 0.99672411, 0.99402496,\n",
       "       0.96141471, 0.90258104, 0.82329166, 0.73009487, 0.62925132,\n",
       "       0.52614226, 0.42512092, 0.32963825, 0.24247124, 0.16593914])"
      ]
     },
     "execution_count": 148,
     "metadata": {},
     "output_type": "execute_result"
    }
   ],
   "source": [
    "#The moon illumination at the beginning of each night is:\n",
    "moon_illumination(t1)"
   ]
  },
  {
   "cell_type": "code",
   "execution_count": 149,
   "metadata": {},
   "outputs": [
    {
     "data": {
      "text/latex": [
       "$[0.83578454,~0.59762736,~0.35444091,~0.11453344,~0.15475107,~0.39543412,~0.63484761,~0.8676993,~1.0925874,~1.3093245,~1.518488,~1.72112,~1.9184827,~2.1118711,~2.3024778] \\; \\mathrm{rad}$"
      ],
      "text/plain": [
       "<Quantity [0.83578454, 0.59762736, 0.35444091, 0.11453344, 0.15475107,\n",
       "           0.39543412, 0.63484761, 0.8676993 , 1.09258743, 1.30932449,\n",
       "           1.51848796, 1.72112   , 1.91848266, 2.11187108, 2.30247784] rad>"
      ]
     },
     "execution_count": 149,
     "metadata": {},
     "output_type": "execute_result"
    }
   ],
   "source": [
    "#Moon phase (in radians) at the beginning of each night:\n",
    "keck.moon_phase(t1)"
   ]
  },
  {
   "cell_type": "code",
   "execution_count": 168,
   "metadata": {},
   "outputs": [
    {
     "name": "stdout",
     "output_type": "stream",
     "text": [
      "The total observing time in this later window is 140.83616763353348 h\n"
     ]
    }
   ],
   "source": [
    "#1 month later,\n",
    "window_start2=Time('2019-03-15 00:00:00')\n",
    "window_end2=Time('2019-04-02 00:00:00')\n",
    "window2=[window_start2,window_end2]\n",
    "window2_time_grid = time_grid_from_range(window2)\n",
    "\n",
    "times2=(\"2019-03-16 00:00:00\",\"2019-03-17 00:00:00\",\"2019-03-18 00:00:00\",\"2019-03-19 00:00:00\",\n",
    "\"2019-03-20 00:00:00\",\"2019-03-21 00:00:00\",\"2019-03-22 00:00:00\",\"2019-03-23 00:00:00\",\n",
    "\"2019-03-24 00:00:00\",\"2019-03-25 00:00:00\",\"2019-03-26 00:00:00\",\"2019-03-27 00:00:00\",\n",
    "\"2019-03-28 00:00:00\",\"2019-03-29 00:00:00\",\"2019-03-30 00:00:00\")\n",
    "t3=Time(times2)\n",
    "t31 = keck.twilight_evening_astronomical(t3, which='nearest')\n",
    "t32 = keck.twilight_morning_astronomical(t3, which='next')\n",
    "obslength3 = (t32 - t31).to(u.h)\n",
    "obslength32=obslength3.sum()\n",
    "print('The total observing time in this later window is',obslength32)"
   ]
  },
  {
   "cell_type": "code",
   "execution_count": 169,
   "metadata": {},
   "outputs": [],
   "source": [
    "observing_table2 = observability_table(constraints, keck, targets, time_range=window2)"
   ]
  },
  {
   "cell_type": "code",
   "execution_count": 170,
   "metadata": {},
   "outputs": [
    {
     "data": {
      "text/html": [
       "<i>Table length=31</i>\n",
       "<table id=\"table34979397928\" class=\"table-striped table-bordered table-condensed\">\n",
       "<thead><tr><th>target name</th><th>ever observable</th><th>always observable</th><th>fraction of time observable</th></tr></thead>\n",
       "<thead><tr><th>str27</th><th>bool</th><th>bool</th><th>float64</th></tr></thead>\n",
       "<tr><td>11 Com b</td><td>True</td><td>False</td><td>0.1886574074074074</td></tr>\n",
       "<tr><td>14 Her b</td><td>True</td><td>False</td><td>0.1712962962962963</td></tr>\n",
       "<tr><td>16 Cyg B b</td><td>True</td><td>False</td><td>0.018518518518518517</td></tr>\n",
       "<tr><td>1RXS J160929.1-210524 b</td><td>True</td><td>False</td><td>0.056712962962962965</td></tr>\n",
       "<tr><td>24 Boo b</td><td>True</td><td>False</td><td>0.2349537037037037</td></tr>\n",
       "<tr><td>24 Sex b</td><td>True</td><td>False</td><td>0.14467592592592593</td></tr>\n",
       "<tr><td>24 Sex c</td><td>True</td><td>False</td><td>0.14467592592592593</td></tr>\n",
       "<tr><td>2MASS J04414489+2301513 b</td><td>True</td><td>False</td><td>0.024305555555555556</td></tr>\n",
       "<tr><td>2MASS J19383260+4603591 b</td><td>True</td><td>False</td><td>0.02546296296296296</td></tr>\n",
       "<tr><td>4 UMa b</td><td>True</td><td>False</td><td>0.09606481481481481</td></tr>\n",
       "<tr><td>...</td><td>...</td><td>...</td><td>...</td></tr>\n",
       "<tr><td>61 Vir b</td><td>True</td><td>False</td><td>0.1076388888888889</td></tr>\n",
       "<tr><td>61 Vir c</td><td>True</td><td>False</td><td>0.1076388888888889</td></tr>\n",
       "<tr><td>61 Vir d</td><td>True</td><td>False</td><td>0.1076388888888889</td></tr>\n",
       "<tr><td>7 CMa b</td><td>True</td><td>False</td><td>0.034722222222222224</td></tr>\n",
       "<tr><td>70 Vir b</td><td>True</td><td>False</td><td>0.1724537037037037</td></tr>\n",
       "<tr><td>BD+03 2562 b</td><td>True</td><td>False</td><td>0.16550925925925927</td></tr>\n",
       "<tr><td>BD+15 2375 b</td><td>True</td><td>False</td><td>0.16782407407407407</td></tr>\n",
       "<tr><td>BD+15 2940 b</td><td>True</td><td>False</td><td>0.11921296296296297</td></tr>\n",
       "<tr><td>BD+20 2457 b</td><td>True</td><td>False</td><td>0.16319444444444445</td></tr>\n",
       "<tr><td>BD+20 2457 c</td><td>True</td><td>False</td><td>0.16319444444444445</td></tr>\n",
       "</table>"
      ],
      "text/plain": [
       "<Table length=31>\n",
       "       target name        ever observable ... fraction of time observable\n",
       "          str27                 bool      ...           float64          \n",
       "------------------------- --------------- ... ---------------------------\n",
       "                 11 Com b            True ...          0.1886574074074074\n",
       "                 14 Her b            True ...          0.1712962962962963\n",
       "               16 Cyg B b            True ...        0.018518518518518517\n",
       "  1RXS J160929.1-210524 b            True ...        0.056712962962962965\n",
       "                 24 Boo b            True ...          0.2349537037037037\n",
       "                 24 Sex b            True ...         0.14467592592592593\n",
       "                 24 Sex c            True ...         0.14467592592592593\n",
       "2MASS J04414489+2301513 b            True ...        0.024305555555555556\n",
       "2MASS J19383260+4603591 b            True ...         0.02546296296296296\n",
       "                  4 UMa b            True ...         0.09606481481481481\n",
       "                      ...             ... ...                         ...\n",
       "                 61 Vir b            True ...          0.1076388888888889\n",
       "                 61 Vir c            True ...          0.1076388888888889\n",
       "                 61 Vir d            True ...          0.1076388888888889\n",
       "                  7 CMa b            True ...        0.034722222222222224\n",
       "                 70 Vir b            True ...          0.1724537037037037\n",
       "             BD+03 2562 b            True ...         0.16550925925925927\n",
       "             BD+15 2375 b            True ...         0.16782407407407407\n",
       "             BD+15 2940 b            True ...         0.11921296296296297\n",
       "             BD+20 2457 b            True ...         0.16319444444444445\n",
       "             BD+20 2457 c            True ...         0.16319444444444445"
      ]
     },
     "execution_count": 170,
     "metadata": {},
     "output_type": "execute_result"
    }
   ],
   "source": [
    "mask1 = observing_table2['ever observable'] == True\n",
    "mask2 = observing_table2['fraction of time observable'] > 0.1\n",
    "observing_table3=observing_table2[mask1]\n",
    "observing_table3\n",
    "#Observing table for one month later"
   ]
  },
  {
   "cell_type": "code",
   "execution_count": 176,
   "metadata": {},
   "outputs": [
    {
     "name": "stdout",
     "output_type": "stream",
     "text": [
      "You can observe 11 Com b for 26.57 h\n",
      "You can observe 14 Her b for 24.12 h\n",
      "You can observe 16 Cyg B b for 2.61 h\n",
      "You can observe 1RXS J160929.1-210524 b for 7.99 h\n",
      "You can observe 24 Boo b for 33.09 h\n",
      "You can observe 24 Sex b for 20.38 h\n",
      "You can observe 24 Sex c for 20.38 h\n",
      "You can observe 2MASS J04414489+2301513 b for 3.42 h\n",
      "You can observe 2MASS J19383260+4603591 b for 3.59 h\n",
      "You can observe 4 UMa b for 13.53 h\n",
      "You can observe 42 Dra b for 0.98 h\n",
      "You can observe 47 UMa b for 26.41 h\n",
      "You can observe 47 UMa c for 26.41 h\n",
      "You can observe 47 UMa d for 26.41 h\n",
      "You can observe 51 Eri b for 0.82 h\n",
      "You can observe 55 Cnc b for 18.58 h\n",
      "You can observe 55 Cnc c for 18.58 h\n",
      "You can observe 55 Cnc d for 18.58 h\n",
      "You can observe 55 Cnc e for 18.58 h\n",
      "You can observe 55 Cnc f for 18.58 h\n",
      "You can observe 6 Lyn b for 8.15 h\n",
      "You can observe 61 Vir b for 15.16 h\n",
      "You can observe 61 Vir c for 15.16 h\n",
      "You can observe 61 Vir d for 15.16 h\n",
      "You can observe 7 CMa b for 4.89 h\n",
      "You can observe 70 Vir b for 24.29 h\n",
      "You can observe BD+03 2562 b for 23.31 h\n",
      "You can observe BD+15 2375 b for 23.64 h\n",
      "You can observe BD+15 2940 b for 16.79 h\n",
      "You can observe BD+20 2457 b for 22.98 h\n",
      "You can observe BD+20 2457 c for 22.98 h\n"
     ]
    },
    {
     "ename": "IndexError",
     "evalue": "index 31 is out of bounds for axis 0 with size 31",
     "output_type": "error",
     "traceback": [
      "\u001b[0;31m---------------------------------------------------------------------------\u001b[0m",
      "\u001b[0;31mIndexError\u001b[0m                                Traceback (most recent call last)",
      "\u001b[0;32m<ipython-input-176-280b565484ff>\u001b[0m in \u001b[0;36m<module>\u001b[0;34m\u001b[0m\n\u001b[1;32m      1\u001b[0m \u001b[0;32mfor\u001b[0m \u001b[0mi\u001b[0m\u001b[0;34m,\u001b[0m \u001b[0mmy_object\u001b[0m \u001b[0;32min\u001b[0m \u001b[0menumerate\u001b[0m\u001b[0;34m(\u001b[0m\u001b[0mtargets\u001b[0m\u001b[0;34m)\u001b[0m\u001b[0;34m:\u001b[0m\u001b[0;34m\u001b[0m\u001b[0m\n\u001b[1;32m      2\u001b[0m \u001b[0;34m\u001b[0m\u001b[0m\n\u001b[0;32m----> 3\u001b[0;31m     \u001b[0;32mif\u001b[0m \u001b[0mobserving_table3\u001b[0m\u001b[0;34m[\u001b[0m\u001b[0;34m'ever observable'\u001b[0m\u001b[0;34m]\u001b[0m\u001b[0;34m[\u001b[0m\u001b[0mi\u001b[0m\u001b[0;34m]\u001b[0m\u001b[0;34m:\u001b[0m\u001b[0;34m\u001b[0m\u001b[0m\n\u001b[0m\u001b[1;32m      4\u001b[0m         \u001b[0mname3\u001b[0m \u001b[0;34m=\u001b[0m \u001b[0mobserving_table3\u001b[0m\u001b[0;34m[\u001b[0m\u001b[0;34m'target name'\u001b[0m\u001b[0;34m]\u001b[0m\u001b[0;34m[\u001b[0m\u001b[0mi\u001b[0m\u001b[0;34m]\u001b[0m\u001b[0;34m\u001b[0m\u001b[0m\n\u001b[1;32m      5\u001b[0m         \u001b[0mobj_frac3\u001b[0m \u001b[0;34m=\u001b[0m \u001b[0mobserving_table3\u001b[0m\u001b[0;34m[\u001b[0m\u001b[0;34m'fraction of time observable'\u001b[0m\u001b[0;34m]\u001b[0m\u001b[0;34m[\u001b[0m\u001b[0mi\u001b[0m\u001b[0;34m]\u001b[0m\u001b[0;34m\u001b[0m\u001b[0m\n",
      "\u001b[0;32mastropy/table/_column_mixins.pyx\u001b[0m in \u001b[0;36mastropy.table._column_mixins._ColumnGetitemShim.__getitem__\u001b[0;34m()\u001b[0m\n",
      "\u001b[0;32mastropy/table/_column_mixins.pyx\u001b[0m in \u001b[0;36mastropy.table._column_mixins.base_getitem\u001b[0;34m()\u001b[0m\n",
      "\u001b[0;32mastropy/table/_column_mixins.pyx\u001b[0m in \u001b[0;36mastropy.table._column_mixins.column_getitem\u001b[0;34m()\u001b[0m\n",
      "\u001b[0;31mIndexError\u001b[0m: index 31 is out of bounds for axis 0 with size 31"
     ]
    }
   ],
   "source": [
    "for i, my_object in enumerate(targets):\n",
    "\n",
    "    if observing_table3['ever observable'][i]:\n",
    "        name3 = observing_table3['target name'][i]\n",
    "        obj_frac3 = observing_table3['fraction of time observable'][i]\n",
    "        obj_time3 = obj_frac3 * obslength32\n",
    "        output = \"You can observe {0:s} for {1:.2f}\".format(name3, obj_time3.to(u.h))\n",
    "        print(output)\n",
    "#Observing length for each object in our original window"
   ]
  },
  {
   "cell_type": "code",
   "execution_count": 172,
   "metadata": {},
   "outputs": [
    {
     "data": {
      "text/plain": [
       "array([0.69788895, 0.79854351, 0.88470559, 0.9497632 , 0.98844498,\n",
       "       0.99790813, 0.9783097 , 0.93259551, 0.86563705, 0.78312779,\n",
       "       0.69065109, 0.59313236, 0.49466937, 0.39861587, 0.30777929])"
      ]
     },
     "execution_count": 172,
     "metadata": {},
     "output_type": "execute_result"
    }
   ],
   "source": [
    "#The moon illumination at the beginning of each night is:\n",
    "moon_illumination(t31)"
   ]
  },
  {
   "cell_type": "code",
   "execution_count": 173,
   "metadata": {},
   "outputs": [
    {
     "data": {
      "text/latex": [
       "$[1.1638816,~0.93093149,~0.6928775,~0.45211209,~0.21540475,~0.091505961,~0.29562791,~0.52526514,~0.75060828,~0.96884054,~1.1795918,~1.3834374,~1.5814578,~1.7749804,~1.965399] \\; \\mathrm{rad}$"
      ],
      "text/plain": [
       "<Quantity [1.16388156, 0.93093149, 0.6928775 , 0.45211209, 0.21540475,\n",
       "           0.09150596, 0.29562791, 0.52526514, 0.75060828, 0.96884054,\n",
       "           1.17959184, 1.38343736, 1.58145778, 1.77498042, 1.96539899] rad>"
      ]
     },
     "execution_count": 173,
     "metadata": {},
     "output_type": "execute_result"
    }
   ],
   "source": [
    "#Moon phase (in radians) at the beginning of each night:\n",
    "keck.moon_phase(t31)"
   ]
  },
  {
   "cell_type": "code",
   "execution_count": null,
   "metadata": {},
   "outputs": [],
   "source": []
  },
  {
   "cell_type": "code",
   "execution_count": null,
   "metadata": {},
   "outputs": [],
   "source": []
  }
 ],
 "metadata": {
  "kernelspec": {
   "display_name": "Python 3",
   "language": "python",
   "name": "python3"
  },
  "language_info": {
   "codemirror_mode": {
    "name": "ipython",
    "version": 3
   },
   "file_extension": ".py",
   "mimetype": "text/x-python",
   "name": "python",
   "nbconvert_exporter": "python",
   "pygments_lexer": "ipython3",
   "version": "3.6.6"
  }
 },
 "nbformat": 4,
 "nbformat_minor": 2
}
